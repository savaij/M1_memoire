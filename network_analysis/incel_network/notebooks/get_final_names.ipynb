{
 "cells": [
  {
   "cell_type": "code",
   "execution_count": 1,
   "metadata": {},
   "outputs": [
    {
     "name": "stderr",
     "output_type": "stream",
     "text": [
      "/var/folders/r3/t2r07q612snc9xmhh7_6wkqm0000gn/T/ipykernel_19379/410453825.py:2: DeprecationWarning: \n",
      "Pyarrow will become a required dependency of pandas in the next major release of pandas (pandas 3.0),\n",
      "(to allow more performant data types, such as the Arrow string type, and better interoperability with other libraries)\n",
      "but was not found to be installed on your system.\n",
      "If this would cause problems for you,\n",
      "please provide us feedback at https://github.com/pandas-dev/pandas/issues/54466\n",
      "        \n",
      "  import pandas as pd\n"
     ]
    }
   ],
   "source": [
    "import json\n",
    "import pandas as pd\n",
    "import numpy as np\n",
    "from telethon.sync import TelegramClient\n",
    "from telethon.tl.types import PeerUser, PeerChat, PeerChannel, InputMessagesFilterPhotoVideo\n",
    "from telethon.tl.functions.channels import GetFullChannelRequest\n",
    "from telethon.errors import ChannelPrivateError\n",
    "import tqdm\n",
    "import glob\n",
    "import pickle"
   ]
  },
  {
   "cell_type": "code",
   "execution_count": 2,
   "metadata": {},
   "outputs": [],
   "source": [
    "with open('../credentials/credentials.pickle','rb') as file:\n",
    "    api_id, api_hash, phone, username = pickle.load(file)"
   ]
  },
  {
   "cell_type": "code",
   "execution_count": 3,
   "metadata": {},
   "outputs": [],
   "source": [
    "edgelist = pd.DataFrame(columns=['forward_from','forward_to','count'])\n",
    "\n",
    "for path in glob.glob('../*_edgelist/*edgelist*.csv'):\n",
    "    df = pd.read_csv(path)\n",
    "    edgelist = pd.concat([edgelist,df])"
   ]
  },
  {
   "cell_type": "code",
   "execution_count": 4,
   "metadata": {},
   "outputs": [],
   "source": [
    "with open('../dictionaires/id_to_desc.json') as file_desc,\\\n",
    "    open('../dictionaires/id_to_names.json') as file_names:\n",
    "    id_to_desc = json.load(file_desc)\n",
    "    id_to_names = json.load(file_names)"
   ]
  },
  {
   "cell_type": "code",
   "execution_count": 5,
   "metadata": {},
   "outputs": [],
   "source": [
    "id_to_names_int = dict(map(lambda x: (int(x[0]),x[1]), id_to_names.items()))"
   ]
  },
  {
   "cell_type": "code",
   "execution_count": 6,
   "metadata": {},
   "outputs": [],
   "source": [
    "list_nodes = edgelist['forward_from'].unique()"
   ]
  },
  {
   "cell_type": "code",
   "execution_count": 7,
   "metadata": {},
   "outputs": [],
   "source": [
    "names_unknown = list(filter(lambda x: x not in id_to_names_int.keys(),list_nodes))"
   ]
  },
  {
   "cell_type": "code",
   "execution_count": 8,
   "metadata": {},
   "outputs": [],
   "source": [
    "async def get_channel_names(channel_id, names_dict, desc_dict):\n",
    "    \"\"\"\n",
    "    Update names_dict and desc_dict with an element like:\n",
    "\n",
    "    channel_id : channel name\n",
    "    channel_id : channel description\n",
    "\n",
    "    args:\n",
    "\n",
    "    channel_id: id of channel to be scraped (has to be an integer!)\n",
    "    names_dict: dict of id-to-names\n",
    "    desc_dict: dict of id-to-bio\n",
    "    \n",
    "    return None\n",
    "    \"\"\"\n",
    "    \n",
    "    async with TelegramClient(username, api_id, api_hash) as client:\n",
    "                entity = await client.get_entity(PeerChannel(channel_id))\n",
    "                full_entity = await client(GetFullChannelRequest(channel=entity))\n",
    "\n",
    "                names_dict[channel_id] = entity.title #get group name\n",
    "                desc_dict[channel_id] = full_entity.full_chat.about #get group bio\n",
    "\n",
    "    \n",
    "    return None"
   ]
  },
  {
   "cell_type": "code",
   "execution_count": 9,
   "metadata": {},
   "outputs": [],
   "source": [
    "start_value = 0\n",
    "final_value = len(names_unknown)"
   ]
  },
  {
   "cell_type": "code",
   "execution_count": null,
   "metadata": {},
   "outputs": [],
   "source": [
    "for index in tqdm.tqdm(range(start_value, final_value)):\n",
    "    codice = names_unknown[index]\n",
    "    try:\n",
    "        await get_channel_names(int(codice), id_to_names, id_to_desc)\n",
    "    except(ChannelPrivateError, ValueError) as e:\n",
    "        print(e)"
   ]
  },
  {
   "cell_type": "code",
   "execution_count": 13,
   "metadata": {},
   "outputs": [],
   "source": [
    "with open('../dictionaires/id_to_desc.json','w') as file_desc,\\\n",
    "    open('../dictionaires/id_to_names.json','w') as file_names:\n",
    "    json.dump(id_to_desc, file_desc)\n",
    "    json.dump(id_to_names, file_names)"
   ]
  },
  {
   "cell_type": "code",
   "execution_count": null,
   "metadata": {},
   "outputs": [],
   "source": []
  }
 ],
 "metadata": {
  "kernelspec": {
   "display_name": "telegram_env",
   "language": "python",
   "name": "python3"
  },
  "language_info": {
   "codemirror_mode": {
    "name": "ipython",
    "version": 3
   },
   "file_extension": ".py",
   "mimetype": "text/x-python",
   "name": "python",
   "nbconvert_exporter": "python",
   "pygments_lexer": "ipython3",
   "version": "3.12.1"
  }
 },
 "nbformat": 4,
 "nbformat_minor": 2
}
