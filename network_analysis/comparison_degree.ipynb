{
 "cells": [
  {
   "cell_type": "code",
   "execution_count": 2,
   "id": "8b6ce8fb",
   "metadata": {
    "metadata": {}
   },
   "outputs": [],
   "source": [
    "import pandas as pd\n",
    "import igraph as ig\n",
    "from ipysigma import Sigma\n",
    "import glob\n",
    "import json\n",
    "import numpy as np\n",
    "from collections import Counter\n",
    "import matplotlib.pyplot as plt"
   ]
  },
  {
   "cell_type": "markdown",
   "id": "5e8dd7e7",
   "metadata": {},
   "source": [
    "# Comparison on three iteration"
   ]
  },
  {
   "cell_type": "code",
   "execution_count": 3,
   "id": "d651c913",
   "metadata": {
    "metadata": {}
   },
   "outputs": [],
   "source": [
    "edgelist_incel = pd.DataFrame(columns=['forward_from','forward_to','count'])\n",
    "\n",
    "for path in glob.glob('./incel*/*_edgelist/*edgelist*.csv'):\n",
    "    df = pd.read_csv(path)\n",
    "    edgelist_incel = pd.concat([edgelist_incel,df])"
   ]
  },
  {
   "cell_type": "code",
   "execution_count": 4,
   "id": "1777ec2b",
   "metadata": {
    "metadata": {}
   },
   "outputs": [],
   "source": [
    "edgelist_incel['link'] = ['incel']*len(edgelist_incel)"
   ]
  },
  {
   "cell_type": "code",
   "execution_count": 5,
   "id": "975ec8e8",
   "metadata": {
    "metadata": {}
   },
   "outputs": [],
   "source": [
    "edgelist_right = pd.DataFrame(columns=['forward_from','forward_to','count'])\n",
    "\n",
    "for path in glob.glob('./*right*/*_edgelist/*edgelist*.csv'):\n",
    "    df = pd.read_csv(path)\n",
    "    edgelist_right = pd.concat([edgelist_right,df])"
   ]
  },
  {
   "cell_type": "code",
   "execution_count": 6,
   "id": "79e9c677",
   "metadata": {
    "metadata": {}
   },
   "outputs": [],
   "source": [
    "edgelist_right['link'] = ['right']*len(edgelist_right)"
   ]
  },
  {
   "cell_type": "code",
   "execution_count": 7,
   "id": "1ae53663",
   "metadata": {
    "metadata": {}
   },
   "outputs": [],
   "source": [
    "edgelist_left = pd.DataFrame(columns=['forward_from','forward_to','count'])\n",
    "\n",
    "for path in glob.glob('./*left*/*_edgelist/*edgelist*.csv'):\n",
    "    df = pd.read_csv(path)\n",
    "    edgelist_left = pd.concat([edgelist_left,df])"
   ]
  },
  {
   "cell_type": "code",
   "execution_count": 8,
   "id": "75d9e3dc",
   "metadata": {
    "metadata": {}
   },
   "outputs": [],
   "source": [
    "edgelist_left['link'] = ['left']*len(edgelist_left)"
   ]
  },
  {
   "cell_type": "code",
   "execution_count": 9,
   "id": "a11facc7",
   "metadata": {
    "metadata": {}
   },
   "outputs": [],
   "source": [
    "edgelist = pd.concat([edgelist_incel, edgelist_left, edgelist_right])"
   ]
  },
  {
   "cell_type": "code",
   "execution_count": 10,
   "id": "1e7996fa",
   "metadata": {
    "metadata": {}
   },
   "outputs": [],
   "source": [
    "with open('./incel_network/dictionaires/id_to_desc.json') as file_desc,\\\n",
    "    open('./incel_network/dictionaires/id_to_names.json') as file_names:\n",
    "    id_to_desc_incel = json.load(file_desc)\n",
    "    id_to_names_incel = json.load(file_names)"
   ]
  },
  {
   "cell_type": "code",
   "execution_count": 11,
   "id": "cbfdead8",
   "metadata": {
    "metadata": {}
   },
   "outputs": [],
   "source": [
    "with open('./extreme_right_network/dictionaires/id_to_desc.json') as file_desc,\\\n",
    "    open('./extreme_right_network/dictionaires/id_to_names.json') as file_names:\n",
    "    id_to_desc_right = json.load(file_desc)\n",
    "    id_to_names_right = json.load(file_names)"
   ]
  },
  {
   "cell_type": "code",
   "execution_count": 12,
   "id": "f9c75b38",
   "metadata": {
    "metadata": {}
   },
   "outputs": [],
   "source": [
    "with open('./extreme_left_network/dictionaires/id_to_desc.json') as file_desc,\\\n",
    "    open('./extreme_left_network/dictionaires/id_to_names.json') as file_names:\n",
    "    id_to_desc_left = json.load(file_desc)\n",
    "    id_to_names_left = json.load(file_names)"
   ]
  },
  {
   "cell_type": "code",
   "execution_count": 13,
   "id": "286d0271",
   "metadata": {
    "metadata": {}
   },
   "outputs": [],
   "source": [
    "id_to_desc_incel = dict(map(lambda x: (int(x[0]), x[1]), id_to_desc_incel.items()))\n",
    "id_to_desc_right = dict(map(lambda x: (int(x[0]), x[1]), id_to_desc_right.items()))\n",
    "id_to_desc_left = dict(map(lambda x: (int(x[0]), x[1]), id_to_desc_left.items()))\n",
    "\n",
    "id_to_names_incel = dict(map(lambda x: (int(x[0]), x[1]), id_to_names_incel.items()))\n",
    "id_to_names_right = dict(map(lambda x: (int(x[0]), x[1]), id_to_names_right.items()))\n",
    "id_to_names_left = dict(map(lambda x: (int(x[0]), x[1]), id_to_names_left.items()))"
   ]
  },
  {
   "cell_type": "code",
   "execution_count": 14,
   "id": "feaeed64",
   "metadata": {
    "metadata": {}
   },
   "outputs": [],
   "source": [
    "id_to_names = {**id_to_names_incel, **id_to_names_right, ** id_to_names_left}\n",
    "id_to_desc = {**id_to_desc_incel, **id_to_desc_right, **id_to_desc_left}"
   ]
  },
  {
   "cell_type": "markdown",
   "id": "bef73215",
   "metadata": {},
   "source": [
    "## Visualization"
   ]
  },
  {
   "cell_type": "markdown",
   "id": "984684d6-8934-4117-aa19-fb98dd91aa57",
   "metadata": {},
   "source": [
    "### Incel and extreme right"
   ]
  },
  {
   "cell_type": "code",
   "execution_count": 14,
   "id": "8d4c12f4",
   "metadata": {
    "metadata": {}
   },
   "outputs": [],
   "source": [
    "edgelist_ir = edgelist[(edgelist['link']=='incel') | (edgelist['link']=='right')]"
   ]
  },
  {
   "cell_type": "code",
   "execution_count": 15,
   "id": "f5e06055",
   "metadata": {
    "metadata": {}
   },
   "outputs": [],
   "source": [
    "G = ig.Graph.TupleList(edgelist_ir.iloc[:,:3].itertuples(index=False), directed=True, weights=True)"
   ]
  },
  {
   "cell_type": "code",
   "execution_count": 16,
   "id": "9424b1ee",
   "metadata": {
    "metadata": {}
   },
   "outputs": [],
   "source": [
    "## community detection\n",
    "#communities = G.as_undirected().community_leiden(objective_function=\"modularity\")\n",
    "communities = G.community_walktrap(weights= G.es['weight'], steps=4)\n",
    "# add community as node label\n",
    "G.vs['community'] = communities.as_clustering().membership"
   ]
  },
  {
   "cell_type": "code",
   "execution_count": 17,
   "id": "ec2bd6b7",
   "metadata": {
    "metadata": {}
   },
   "outputs": [],
   "source": [
    "G.vs['desc'] = list(map(lambda x: id_to_desc.get(int(x),x), G.vs['name']))\n",
    "G.vs['label'] = list(map(lambda x: id_to_names.get(int(x),x), G.vs['name']))"
   ]
  },
  {
   "cell_type": "code",
   "execution_count": 18,
   "id": "e33a8c2a",
   "metadata": {},
   "outputs": [
    {
     "data": {
      "application/vnd.jupyter.widget-view+json": {
       "model_id": "247e8154a89d4e8591b037630e7bae90",
       "version_major": 2,
       "version_minor": 0
      },
      "text/plain": [
       "Sigma(ig.Graph with 6,206 nodes and 16,948 edges)"
      ]
     },
     "execution_count": 18,
     "metadata": {},
     "output_type": "execute_result"
    }
   ],
   "source": [
    "Sigma(G, node_size=G.degree(mode='out'),\n",
    "      node_color=G.vs['community'], \n",
    "      hide_edges_on_move=True,\n",
    "      edge_color=edgelist_ir['link'].tolist(),\n",
    "      node_color_gradient='Viridis', node_label=G.vs['label'],\n",
    "     layout_settings = {\"barnesHutOptimize\":False,\n",
    "                       'gravity': 0.1})"
   ]
  },
  {
   "cell_type": "markdown",
   "id": "238e0b55",
   "metadata": {},
   "source": [
    "### incel and extreme left"
   ]
  },
  {
   "cell_type": "code",
   "execution_count": 21,
   "id": "e0b1b7cd",
   "metadata": {
    "metadata": {}
   },
   "outputs": [],
   "source": [
    "edgelist_il = edgelist[(edgelist['link']=='incel') | (edgelist['link']=='left')]"
   ]
  },
  {
   "cell_type": "code",
   "execution_count": 22,
   "id": "d6e8b42b",
   "metadata": {
    "metadata": {}
   },
   "outputs": [],
   "source": [
    "G = ig.Graph.TupleList(edgelist_il.iloc[:,:3].itertuples(index=False), directed=True, weights=True)"
   ]
  },
  {
   "cell_type": "code",
   "execution_count": 23,
   "id": "5d1898bb",
   "metadata": {
    "metadata": {}
   },
   "outputs": [],
   "source": [
    "## community detection\n",
    "#communities = G.as_undirected().community_leiden(objective_function=\"modularity\")\n",
    "communities = G.community_walktrap(weights= G.es['weight'], steps=4)\n",
    "# add community as node label\n",
    "G.vs['community'] = communities.as_clustering().membership"
   ]
  },
  {
   "cell_type": "code",
   "execution_count": 24,
   "id": "0c0b2144",
   "metadata": {
    "metadata": {}
   },
   "outputs": [],
   "source": [
    "G.vs['desc'] = list(map(lambda x: id_to_desc.get(int(x),x), G.vs['name']))\n",
    "G.vs['label'] = list(map(lambda x: id_to_names.get(int(x),x), G.vs['name']))"
   ]
  },
  {
   "cell_type": "code",
   "execution_count": 25,
   "id": "953c2214",
   "metadata": {},
   "outputs": [
    {
     "data": {
      "application/vnd.jupyter.widget-view+json": {
       "model_id": "cf9222e062aa49d4af180c4baf4663dc",
       "version_major": 2,
       "version_minor": 0
      },
      "text/plain": [
       "Sigma(ig.Graph with 6,270 nodes and 17,424 edges)"
      ]
     },
     "execution_count": 25,
     "metadata": {},
     "output_type": "execute_result"
    }
   ],
   "source": [
    "Sigma(G, node_size=G.degree(mode='out'),\n",
    "      node_color=G.vs['community'], \n",
    "      hide_edges_on_move=True,\n",
    "      edge_color=edgelist['link'].tolist(),\n",
    "      node_color_gradient='Viridis', node_label=G.vs['label'],\n",
    "     layout_settings = {\"barnesHutOptimize\":False,\n",
    "                       'gravity': 0.1})"
   ]
  },
  {
   "cell_type": "markdown",
   "id": "4167bf2a-9fab-408e-9390-06c1baea8a0b",
   "metadata": {
    "jp-MarkdownHeadingCollapsed": true
   },
   "source": [
    "## Comparison elaboration"
   ]
  },
  {
   "cell_type": "markdown",
   "id": "f151a604",
   "metadata": {},
   "source": [
    "### comparison on total degree"
   ]
  },
  {
   "cell_type": "code",
   "execution_count": 15,
   "id": "6cfde93d",
   "metadata": {
    "metadata": {}
   },
   "outputs": [],
   "source": [
    "nodes_incel = edgelist[edgelist['link']=='incel'].iloc[:,:2] #gets only forward_from and forward_to columns\n",
    "\n",
    "nodes_incel = nodes_incel.values.reshape((-1)) #flatten array\n",
    "\n",
    "nodes_incel = np.unique(nodes_incel) #get unique values"
   ]
  },
  {
   "cell_type": "code",
   "execution_count": 16,
   "id": "fd2770e8",
   "metadata": {
    "metadata": {}
   },
   "outputs": [],
   "source": [
    "nodes_right = edgelist[edgelist['link']=='right'].iloc[:,:2] #gets only forward_from and forward_to columns\n",
    "\n",
    "nodes_right = nodes_right.values.reshape((-1)) #flatten array\n",
    "\n",
    "nodes_right = np.unique(nodes_right) #get unique values"
   ]
  },
  {
   "cell_type": "code",
   "execution_count": 17,
   "id": "1d07224e",
   "metadata": {
    "metadata": {}
   },
   "outputs": [],
   "source": [
    "nodes_left = edgelist[edgelist['link']=='left'].iloc[:,:2] #gets only forward_from and forward_to columns\n",
    "\n",
    "nodes_left = nodes_left.values.reshape((-1)) #flatten array\n",
    "\n",
    "nodes_left = np.unique(nodes_left) #get unique values"
   ]
  },
  {
   "cell_type": "markdown",
   "id": "b69093b2",
   "metadata": {},
   "source": [
    "filter nodes common to all three"
   ]
  },
  {
   "cell_type": "code",
   "execution_count": 18,
   "id": "e8bab351",
   "metadata": {
    "metadata": {}
   },
   "outputs": [],
   "source": [
    "nodes_step_1 = nodes_incel[np.isin(nodes_incel, nodes_right)] #get nodes of incel network that are ALSO in right network\n",
    "common_nodes = nodes_step_1[np.isin(nodes_step_1, nodes_left)] #get nodes of intermediate step (present in both right and incel network) that are ALSO in left network"
   ]
  },
  {
   "cell_type": "code",
   "execution_count": 19,
   "id": "9830d155",
   "metadata": {
    "metadata": {}
   },
   "outputs": [],
   "source": [
    "comparison_network_incel = edgelist[edgelist['link']=='incel'].iloc[:,:3] #get edgelist only incel\n",
    "comparison_network_left = edgelist[edgelist['link']=='left'].iloc[:,:3] #get edgelist only left\n",
    "comparison_network_right = edgelist[edgelist['link']=='right'].iloc[:,:3] #get edgelist only right\n",
    "\n",
    "G_incel = ig.Graph.TupleList(comparison_network_incel.itertuples(index=False), directed=True, weights=True)\n",
    "G_left = ig.Graph.TupleList(comparison_network_left.itertuples(index=False), directed=True, weights=True)\n",
    "G_right = ig.Graph.TupleList(comparison_network_right.itertuples(index=False), directed=True, weights=True)"
   ]
  },
  {
   "cell_type": "code",
   "execution_count": 20,
   "id": "d8c4c372",
   "metadata": {
    "metadata": {}
   },
   "outputs": [],
   "source": [
    "deg_dict_incel = dict(zip(G_incel.vs['name'], G_incel.degree())) \n",
    "deg_dict_left = dict(zip(G_left.vs['name'], G_left.degree()))\n",
    "deg_dict_right = dict(zip(G_right.vs['name'], G_right.degree())) \n",
    "\n",
    "dict_tot = {\n",
    "    'incel':deg_dict_incel,\n",
    "    'left':deg_dict_left,\n",
    "    'right':deg_dict_right\n",
    "}"
   ]
  },
  {
   "cell_type": "code",
   "execution_count": 21,
   "id": "061abc8f",
   "metadata": {
    "metadata": {}
   },
   "outputs": [],
   "source": [
    "def get_weights(x, key):\n",
    "    \"\"\"\n",
    "    x: node id,\n",
    "    key: 'left', 'right' or 'incel'\n",
    "\n",
    "    Get the degree of x in the correspondent network\n",
    "    \"\"\"\n",
    "\n",
    "    return dict_tot[key][x]"
   ]
  },
  {
   "cell_type": "code",
   "execution_count": 22,
   "id": "05063aab",
   "metadata": {
    "metadata": {}
   },
   "outputs": [],
   "source": [
    "get_weights = np.vectorize(get_weights) #vectorize function so we can transfom the whole array in a sequence of weights"
   ]
  },
  {
   "cell_type": "code",
   "execution_count": 23,
   "id": "0f6c9acc",
   "metadata": {
    "metadata": {}
   },
   "outputs": [
    {
     "data": {
      "text/plain": [
       "33.71821484172289"
      ]
     },
     "execution_count": 23,
     "metadata": {},
     "output_type": "execute_result"
    }
   ],
   "source": [
    "get_weights(common_nodes, key='incel').sum() / get_weights(nodes_incel, key='incel').sum() * 100\n",
    "#34% of the nodes degrees in the incel network is composed by nodes that are in all three networks"
   ]
  },
  {
   "cell_type": "markdown",
   "id": "2ab7c5c4",
   "metadata": {
    "jp-MarkdownHeadingCollapsed": true
   },
   "source": [
    "#### incel-extreme right"
   ]
  },
  {
   "cell_type": "markdown",
   "id": "41e3fef8",
   "metadata": {},
   "source": [
    "get how many nodes in the incel network are also in the right network and ARE NOT in the left one\n",
    "(using nodes degree in incel network as weights)"
   ]
  },
  {
   "cell_type": "code",
   "execution_count": 24,
   "id": "78862c1c",
   "metadata": {
    "metadata": {}
   },
   "outputs": [],
   "source": [
    "filter_nodes = (np.isin(nodes_incel, nodes_right) & ~np.isin(nodes_incel, common_nodes)) \n",
    "nodes_incel_filtered = nodes_incel[filter_nodes] #get all nodes in nodes_incel that ARE in nodes_right and AREN'T in all three networks"
   ]
  },
  {
   "cell_type": "code",
   "execution_count": 25,
   "id": "366d71b8",
   "metadata": {
    "metadata": {}
   },
   "outputs": [
    {
     "name": "stdout",
     "output_type": "stream",
     "text": [
      "Incel weights : 19.382459782044627 %\n",
      "Right weights : 18.425324675324674 %\n"
     ]
    }
   ],
   "source": [
    "print(f\"Incel weights : {get_weights(nodes_incel_filtered, 'incel').sum() / get_weights(nodes_incel, 'incel').sum() * 100} %\")\n",
    "#19.3% of the total of nodes degrees in the incel network is composed by nodes that are in the extreme right one\n",
    "\n",
    "\n",
    "print(f\"Right weights : {get_weights(nodes_incel_filtered, 'right').sum() / get_weights(nodes_right, 'right').sum() * 100} %\")\n",
    "#the total weight of the same nodes in the right network is slightly lower, 18.4%"
   ]
  },
  {
   "cell_type": "markdown",
   "id": "847ea772",
   "metadata": {
    "jp-MarkdownHeadingCollapsed": true
   },
   "source": [
    "### incel-extreme left"
   ]
  },
  {
   "cell_type": "code",
   "execution_count": 30,
   "id": "af51c8c8",
   "metadata": {
    "metadata": {}
   },
   "outputs": [],
   "source": [
    "filter_nodes = (np.isin(nodes_incel, nodes_left) & ~np.isin(nodes_incel, common_nodes)) \n",
    "nodes_incel_filtered = nodes_incel[filter_nodes] #get all nodes in nodes_incel that ARE in nodes_left and AREN'T in all three networks"
   ]
  },
  {
   "cell_type": "code",
   "execution_count": 31,
   "id": "26ee49a9",
   "metadata": {
    "metadata": {}
   },
   "outputs": [
    {
     "name": "stdout",
     "output_type": "stream",
     "text": [
      "Incel weights : 11.228593668915412 %\n",
      "Left weights : 5.99011939069576 %\n"
     ]
    }
   ],
   "source": [
    "print(f\"Incel weights : {get_weights(nodes_incel_filtered, 'incel').sum() / get_weights(nodes_incel, 'incel').sum() * 100} %\")\n",
    "#11.22% of the total of nodes degrees in the incel network is composed by nodes that are in the extreme left one\n",
    "\n",
    "print(f\"Left weights : {get_weights(nodes_incel_filtered, 'left').sum() / get_weights(nodes_left, 'left').sum() * 100} %\")\n",
    "#the total weight of the same nodes in the left network is lower, 6%"
   ]
  },
  {
   "cell_type": "markdown",
   "id": "52a750f8",
   "metadata": {
    "jp-MarkdownHeadingCollapsed": true
   },
   "source": [
    "### comparison on outdegree"
   ]
  },
  {
   "cell_type": "code",
   "execution_count": 39,
   "id": "275ba34f",
   "metadata": {
    "metadata": {}
   },
   "outputs": [],
   "source": [
    "nodes_incel = edgelist[edgelist['link']=='incel'].iloc[:,:2] #gets only forward_from and forward_to columns\n",
    "\n",
    "nodes_incel = nodes_incel.values.reshape((-1)) #flatten array\n",
    "\n",
    "nodes_incel = np.unique(nodes_incel) #get unique values"
   ]
  },
  {
   "cell_type": "code",
   "execution_count": 40,
   "id": "237a7ece",
   "metadata": {
    "metadata": {}
   },
   "outputs": [],
   "source": [
    "nodes_right = edgelist[edgelist['link']=='right'].iloc[:,:2] #gets only forward_from and forward_to columns\n",
    "\n",
    "nodes_right = nodes_right.values.reshape((-1)) #flatten array\n",
    "\n",
    "nodes_right = np.unique(nodes_right) #get unique values"
   ]
  },
  {
   "cell_type": "code",
   "execution_count": 41,
   "id": "22c84d88",
   "metadata": {
    "metadata": {}
   },
   "outputs": [],
   "source": [
    "nodes_left = edgelist[edgelist['link']=='left'].iloc[:,:2] #gets only forward_from and forward_to columns\n",
    "\n",
    "nodes_left = nodes_left.values.reshape((-1)) #flatten array\n",
    "\n",
    "nodes_left = np.unique(nodes_left) #get unique values"
   ]
  },
  {
   "cell_type": "markdown",
   "id": "90f7b47c",
   "metadata": {},
   "source": [
    "filter nodes common to all three"
   ]
  },
  {
   "cell_type": "code",
   "execution_count": 42,
   "id": "4ad47dac",
   "metadata": {
    "metadata": {}
   },
   "outputs": [],
   "source": [
    "nodes_step_1 = nodes_incel[np.isin(nodes_incel, nodes_right)] #get nodes of incel network that are ALSO in right network\n",
    "common_nodes = nodes_step_1[np.isin(nodes_step_1, nodes_left)] #get nodes of intermediate step (present in both right and incel network) that are ALSO in left network"
   ]
  },
  {
   "cell_type": "code",
   "execution_count": 43,
   "id": "477340a4",
   "metadata": {
    "metadata": {}
   },
   "outputs": [],
   "source": [
    "comparison_network_incel = edgelist[edgelist['link']=='incel'].iloc[:,:3] #get edgelist only incel\n",
    "comparison_network_left = edgelist[edgelist['link']=='left'].iloc[:,:3] #get edgelist only left\n",
    "comparison_network_right = edgelist[edgelist['link']=='right'].iloc[:,:3] #get edgelist only right\n",
    "\n",
    "G_incel = ig.Graph.TupleList(comparison_network_incel.itertuples(index=False), directed=True, weights=True)\n",
    "G_left = ig.Graph.TupleList(comparison_network_left.itertuples(index=False), directed=True, weights=True)\n",
    "G_right = ig.Graph.TupleList(comparison_network_right.itertuples(index=False), directed=True, weights=True)"
   ]
  },
  {
   "cell_type": "code",
   "execution_count": 44,
   "id": "95d1a94c",
   "metadata": {
    "metadata": {}
   },
   "outputs": [],
   "source": [
    "deg_dict_incel = dict(zip(G_incel.vs['name'], G_incel.degree(mode='out'))) \n",
    "deg_dict_left = dict(zip(G_left.vs['name'], G_left.degree(mode='out')))\n",
    "deg_dict_right = dict(zip(G_right.vs['name'], G_right.degree(mode='out'))) \n",
    "\n",
    "dict_tot = {\n",
    "    'incel':deg_dict_incel,\n",
    "    'left':deg_dict_left,\n",
    "    'right':deg_dict_right\n",
    "}"
   ]
  },
  {
   "cell_type": "code",
   "execution_count": 45,
   "id": "f245dd2e",
   "metadata": {
    "metadata": {}
   },
   "outputs": [],
   "source": [
    "def get_weights(x, key):\n",
    "    \"\"\"\n",
    "    x: node id,\n",
    "    key: 'left', 'right' or 'incel'\n",
    "\n",
    "    Get the degree of x in the correspondent network\n",
    "    \"\"\"\n",
    "\n",
    "    return dict_tot[key][x]"
   ]
  },
  {
   "cell_type": "code",
   "execution_count": 46,
   "id": "9fab2462",
   "metadata": {
    "metadata": {}
   },
   "outputs": [],
   "source": [
    "get_weights = np.vectorize(get_weights) #vectorize function so we can transfom the whole array in a sequence of weights"
   ]
  },
  {
   "cell_type": "code",
   "execution_count": 47,
   "id": "c1418552",
   "metadata": {
    "metadata": {}
   },
   "outputs": [
    {
     "data": {
      "text/plain": [
       "30.11157239231967"
      ]
     },
     "execution_count": 47,
     "metadata": {},
     "output_type": "execute_result"
    }
   ],
   "source": [
    "get_weights(common_nodes, key='incel').sum() / get_weights(nodes_incel, key='incel').sum() * 100\n",
    "#34% of the nodes degrees in the incel network is composed by nodes that are in all three networks"
   ]
  },
  {
   "cell_type": "markdown",
   "id": "2234fd79",
   "metadata": {
    "jp-MarkdownHeadingCollapsed": true
   },
   "source": [
    "### incel-extreme right"
   ]
  },
  {
   "cell_type": "markdown",
   "id": "7a5f7ae6",
   "metadata": {},
   "source": [
    "get how many nodes in the incel network are also in the right network and ARE NOT in the left one\n",
    "(using nodes degree in incel network as weights)"
   ]
  },
  {
   "cell_type": "code",
   "execution_count": 48,
   "id": "41ed1f35",
   "metadata": {
    "metadata": {}
   },
   "outputs": [],
   "source": [
    "filter_nodes = (np.isin(nodes_incel, nodes_right) & ~np.isin(nodes_incel, common_nodes)) \n",
    "nodes_incel_filtered = nodes_incel[filter_nodes] #get all nodes in nodes_incel that ARE in nodes_right and AREN'T in all three networks"
   ]
  },
  {
   "cell_type": "code",
   "execution_count": 49,
   "id": "4ae8b1b1",
   "metadata": {
    "metadata": {}
   },
   "outputs": [
    {
     "name": "stdout",
     "output_type": "stream",
     "text": [
      "Incel weights : 19.603009859885834 %\n",
      "Right weights : 16.417748917748916 %\n"
     ]
    }
   ],
   "source": [
    "print(f\"Incel weights : {get_weights(nodes_incel_filtered, 'incel').sum() / get_weights(nodes_incel, 'incel').sum() * 100} %\")\n",
    "#19.6% of the total of nodes degrees in the incel network is composed by nodes that are in the extreme right one\n",
    "\n",
    "\n",
    "print(f\"Right weights : {get_weights(nodes_incel_filtered, 'right').sum() / get_weights(nodes_right, 'right').sum() * 100} %\")\n",
    "#the total weight of the same nodes in the right network is slightly lower, 16.4%"
   ]
  },
  {
   "cell_type": "markdown",
   "id": "727f7437",
   "metadata": {
    "jp-MarkdownHeadingCollapsed": true
   },
   "source": [
    "### incel-extreme left"
   ]
  },
  {
   "cell_type": "code",
   "execution_count": 50,
   "id": "2a6ad835",
   "metadata": {
    "metadata": {}
   },
   "outputs": [],
   "source": [
    "filter_nodes = (np.isin(nodes_incel, nodes_left) & ~np.isin(nodes_incel, common_nodes)) \n",
    "nodes_incel_filtered = nodes_incel[filter_nodes] #get all nodes in nodes_incel that ARE in nodes_left and AREN'T in all three networks"
   ]
  },
  {
   "cell_type": "code",
   "execution_count": 51,
   "id": "13303dd6",
   "metadata": {
    "metadata": {}
   },
   "outputs": [
    {
     "name": "stdout",
     "output_type": "stream",
     "text": [
      "Incel weights : 8.393876491956409 %\n",
      "Left weights : 6.86496500617538 %\n"
     ]
    }
   ],
   "source": [
    "print(f\"Incel weights : {get_weights(nodes_incel_filtered, 'incel').sum() / get_weights(nodes_incel, 'incel').sum() * 100} %\")\n",
    "#11.22% of the total of nodes degrees in the incel network is composed by nodes that are in the extreme left one\n",
    "\n",
    "print(f\"Left weights : {get_weights(nodes_incel_filtered, 'left').sum() / get_weights(nodes_left, 'left').sum() * 100} %\")\n",
    "#the total weight of the same nodes in the left network is lower, 6%"
   ]
  },
  {
   "cell_type": "markdown",
   "id": "8200f106",
   "metadata": {
    "jp-MarkdownHeadingCollapsed": true
   },
   "source": [
    "### comparison on indegree"
   ]
  },
  {
   "cell_type": "code",
   "execution_count": 52,
   "id": "4f73a621",
   "metadata": {
    "metadata": {}
   },
   "outputs": [],
   "source": [
    "nodes_incel = edgelist[edgelist['link']=='incel'].iloc[:,:2] #gets only forward_from and forward_to columns\n",
    "\n",
    "nodes_incel = nodes_incel.values.reshape((-1)) #flatten array\n",
    "\n",
    "nodes_incel = np.unique(nodes_incel) #get unique values"
   ]
  },
  {
   "cell_type": "code",
   "execution_count": 53,
   "id": "868b9087",
   "metadata": {
    "metadata": {}
   },
   "outputs": [],
   "source": [
    "nodes_right = edgelist[edgelist['link']=='right'].iloc[:,:2] #gets only forward_from and forward_to columns\n",
    "\n",
    "nodes_right = nodes_right.values.reshape((-1)) #flatten array\n",
    "\n",
    "nodes_right = np.unique(nodes_right) #get unique values"
   ]
  },
  {
   "cell_type": "code",
   "execution_count": 54,
   "id": "e3d208a6",
   "metadata": {
    "metadata": {}
   },
   "outputs": [],
   "source": [
    "nodes_left = edgelist[edgelist['link']=='left'].iloc[:,:2] #gets only forward_from and forward_to columns\n",
    "\n",
    "nodes_left = nodes_left.values.reshape((-1)) #flatten array\n",
    "\n",
    "nodes_left = np.unique(nodes_left) #get unique values"
   ]
  },
  {
   "cell_type": "markdown",
   "id": "f0f81cf0",
   "metadata": {},
   "source": [
    "filter nodes common to all three"
   ]
  },
  {
   "cell_type": "code",
   "execution_count": 55,
   "id": "4b2d2f72",
   "metadata": {
    "metadata": {}
   },
   "outputs": [],
   "source": [
    "nodes_step_1 = nodes_incel[np.isin(nodes_incel, nodes_right)] #get nodes of incel network that are ALSO in right network\n",
    "common_nodes = nodes_step_1[np.isin(nodes_step_1, nodes_left)] #get nodes of intermediate step (present in both right and incel network) that are ALSO in left network"
   ]
  },
  {
   "cell_type": "code",
   "execution_count": 56,
   "id": "46330309",
   "metadata": {
    "metadata": {}
   },
   "outputs": [],
   "source": [
    "comparison_network_incel = edgelist[edgelist['link']=='incel'].iloc[:,:3] #get edgelist only incel\n",
    "comparison_network_left = edgelist[edgelist['link']=='left'].iloc[:,:3] #get edgelist only left\n",
    "comparison_network_right = edgelist[edgelist['link']=='right'].iloc[:,:3] #get edgelist only right\n",
    "\n",
    "G_incel = ig.Graph.TupleList(comparison_network_incel.itertuples(index=False), directed=True, weights=True)\n",
    "G_left = ig.Graph.TupleList(comparison_network_left.itertuples(index=False), directed=True, weights=True)\n",
    "G_right = ig.Graph.TupleList(comparison_network_right.itertuples(index=False), directed=True, weights=True)"
   ]
  },
  {
   "cell_type": "code",
   "execution_count": 57,
   "id": "a9181f05",
   "metadata": {
    "metadata": {}
   },
   "outputs": [],
   "source": [
    "deg_dict_incel = dict(zip(G_incel.vs['name'], G_incel.degree(mode='in'))) \n",
    "deg_dict_left = dict(zip(G_left.vs['name'], G_left.degree(mode='in')))\n",
    "deg_dict_right = dict(zip(G_right.vs['name'], G_right.degree(mode='in'))) \n",
    "\n",
    "dict_tot = {\n",
    "    'incel':deg_dict_incel,\n",
    "    'left':deg_dict_left,\n",
    "    'right':deg_dict_right\n",
    "}"
   ]
  },
  {
   "cell_type": "code",
   "execution_count": 58,
   "id": "d72fd453",
   "metadata": {
    "metadata": {}
   },
   "outputs": [],
   "source": [
    "def get_weights(x, key):\n",
    "    \"\"\"\n",
    "    x: node id,\n",
    "    key: 'left', 'right' or 'incel'\n",
    "\n",
    "    Get the degree of x in the correspondent network\n",
    "    \"\"\"\n",
    "\n",
    "    return dict_tot[key][x]"
   ]
  },
  {
   "cell_type": "code",
   "execution_count": 59,
   "id": "e16383aa",
   "metadata": {
    "metadata": {}
   },
   "outputs": [],
   "source": [
    "get_weights = np.vectorize(get_weights) #vectorize function so we can transfom the whole array in a sequence of weights"
   ]
  },
  {
   "cell_type": "code",
   "execution_count": 60,
   "id": "8ba56941",
   "metadata": {
    "metadata": {}
   },
   "outputs": [
    {
     "data": {
      "text/plain": [
       "37.3248572911261"
      ]
     },
     "execution_count": 60,
     "metadata": {},
     "output_type": "execute_result"
    }
   ],
   "source": [
    "get_weights(common_nodes, key='incel').sum() / get_weights(nodes_incel, key='incel').sum() * 100\n",
    "#34% of the nodes degrees in the incel network is composed by nodes that are in all three networks"
   ]
  },
  {
   "cell_type": "markdown",
   "id": "b0d2fa57",
   "metadata": {
    "jp-MarkdownHeadingCollapsed": true
   },
   "source": [
    "### incel-extreme right"
   ]
  },
  {
   "cell_type": "markdown",
   "id": "19a8d347",
   "metadata": {},
   "source": [
    "get how many nodes in the incel network are also in the right network and ARE NOT in the left one\n",
    "(using nodes degree in incel network as weights)"
   ]
  },
  {
   "cell_type": "code",
   "execution_count": 61,
   "id": "ae796a9b",
   "metadata": {
    "metadata": {}
   },
   "outputs": [],
   "source": [
    "filter_nodes = (np.isin(nodes_incel, nodes_right) & ~np.isin(nodes_incel, common_nodes)) \n",
    "nodes_incel_filtered = nodes_incel[filter_nodes] #get all nodes in nodes_incel that ARE in nodes_right and AREN'T in all three networks"
   ]
  },
  {
   "cell_type": "code",
   "execution_count": 62,
   "id": "86231d99",
   "metadata": {
    "metadata": {}
   },
   "outputs": [
    {
     "name": "stdout",
     "output_type": "stream",
     "text": [
      "Incel weights : 19.161909704203424 %\n",
      "Right weights : 20.432900432900432 %\n"
     ]
    }
   ],
   "source": [
    "print(f\"Incel weights : {get_weights(nodes_incel_filtered, 'incel').sum() / get_weights(nodes_incel, 'incel').sum() * 100} %\")\n",
    "#19.1% of the total of nodes degrees in the incel network is composed by nodes that are in the extreme right one\n",
    "\n",
    "\n",
    "print(f\"Right weights : {get_weights(nodes_incel_filtered, 'right').sum() / get_weights(nodes_right, 'right').sum() * 100} %\")\n",
    "#the total weight of the same nodes in the right network is slightly higher, 20.4%"
   ]
  },
  {
   "cell_type": "markdown",
   "id": "3a37bbc1",
   "metadata": {},
   "source": [
    "### incel-extreme left"
   ]
  },
  {
   "cell_type": "code",
   "execution_count": 63,
   "id": "693dffc6",
   "metadata": {
    "metadata": {}
   },
   "outputs": [],
   "source": [
    "filter_nodes = (np.isin(nodes_incel, nodes_left) & ~np.isin(nodes_incel, common_nodes)) \n",
    "nodes_incel_filtered = nodes_incel[filter_nodes] #get all nodes in nodes_incel that ARE in nodes_left and AREN'T in all three networks"
   ]
  },
  {
   "cell_type": "code",
   "execution_count": 64,
   "id": "4545d9cd",
   "metadata": {
    "metadata": {}
   },
   "outputs": [
    {
     "name": "stdout",
     "output_type": "stream",
     "text": [
      "Incel weights : 14.063310845874415 %\n",
      "Left weights : 5.115273775216139 %\n"
     ]
    }
   ],
   "source": [
    "print(f\"Incel weights : {get_weights(nodes_incel_filtered, 'incel').sum() / get_weights(nodes_incel, 'incel').sum() * 100} %\")\n",
    "#14.06% of the total of nodes degrees in the incel network is composed by nodes that are in the extreme left one\n",
    "\n",
    "print(f\"Left weights : {get_weights(nodes_incel_filtered, 'left').sum() / get_weights(nodes_left, 'left').sum() * 100} %\")\n",
    "#the total weight of the same nodes in the left network is lower, 5.11%"
   ]
  },
  {
   "cell_type": "markdown",
   "id": "6d423d16",
   "metadata": {},
   "source": [
    "---------"
   ]
  },
  {
   "cell_type": "markdown",
   "id": "68326ef7",
   "metadata": {
    "jp-MarkdownHeadingCollapsed": true
   },
   "source": [
    "# Comparison on two iterations"
   ]
  },
  {
   "cell_type": "code",
   "execution_count": 86,
   "id": "199bfd03",
   "metadata": {},
   "outputs": [],
   "source": [
    "edgelist_incel = pd.DataFrame(columns=['forward_from','forward_to','count'])\n",
    "\n",
    "for path in glob.glob('./incel*/*_edgelist/[f,s]*edgelist*.csv'):\n",
    "    df = pd.read_csv(path)\n",
    "    edgelist_incel = pd.concat([edgelist_incel,df])"
   ]
  },
  {
   "cell_type": "code",
   "execution_count": 87,
   "id": "b9b84c6b",
   "metadata": {},
   "outputs": [],
   "source": [
    "edgelist_incel['link'] = ['incel']*len(edgelist_incel)"
   ]
  },
  {
   "cell_type": "code",
   "execution_count": 88,
   "id": "a452dbaf",
   "metadata": {},
   "outputs": [],
   "source": [
    "edgelist_right = pd.DataFrame(columns=['forward_from','forward_to','count'])\n",
    "\n",
    "for path in glob.glob('./*right*/*_edgelist/[f,s]*edgelist*.csv'):\n",
    "    df = pd.read_csv(path)\n",
    "    edgelist_right = pd.concat([edgelist_right,df])"
   ]
  },
  {
   "cell_type": "code",
   "execution_count": 89,
   "id": "1902dbf2",
   "metadata": {},
   "outputs": [],
   "source": [
    "edgelist_right['link'] = ['right']*len(edgelist_right)"
   ]
  },
  {
   "cell_type": "code",
   "execution_count": 90,
   "id": "df8924bb",
   "metadata": {},
   "outputs": [],
   "source": [
    "edgelist_left = pd.DataFrame(columns=['forward_from','forward_to','count'])\n",
    "\n",
    "for path in glob.glob('./*left*/*_edgelist/[f,s]*edgelist*.csv'):\n",
    "    df = pd.read_csv(path)\n",
    "    edgelist_left = pd.concat([edgelist_left,df])"
   ]
  },
  {
   "cell_type": "code",
   "execution_count": 91,
   "id": "c39469bf",
   "metadata": {},
   "outputs": [],
   "source": [
    "edgelist_left['link'] = ['left']*len(edgelist_left)"
   ]
  },
  {
   "cell_type": "code",
   "execution_count": 92,
   "id": "b4a0914f",
   "metadata": {},
   "outputs": [],
   "source": [
    "edgelist = pd.concat([edgelist_incel, edgelist_left, edgelist_right])"
   ]
  },
  {
   "cell_type": "markdown",
   "id": "2e60274a",
   "metadata": {},
   "source": [
    "## Visualization"
   ]
  },
  {
   "cell_type": "markdown",
   "id": "fec3ded5",
   "metadata": {},
   "source": [
    "### Incel and extreme right"
   ]
  },
  {
   "cell_type": "code",
   "execution_count": 94,
   "id": "d215008f",
   "metadata": {},
   "outputs": [],
   "source": [
    "edgelist_ir = edgelist[(edgelist['link']=='incel') | (edgelist['link']=='right')]"
   ]
  },
  {
   "cell_type": "code",
   "execution_count": 95,
   "id": "6182890e",
   "metadata": {},
   "outputs": [],
   "source": [
    "G = ig.Graph.TupleList(edgelist_ir.iloc[:,:3].itertuples(index=False), directed=True, weights=True)"
   ]
  },
  {
   "cell_type": "code",
   "execution_count": 96,
   "id": "538ad70d",
   "metadata": {},
   "outputs": [],
   "source": [
    "## community detection\n",
    "communities = G.as_undirected().community_leiden(objective_function=\"modularity\")\n",
    "\n",
    "# add community as node label\n",
    "G.vs['community'] = communities.membership"
   ]
  },
  {
   "cell_type": "code",
   "execution_count": 97,
   "id": "41064132",
   "metadata": {},
   "outputs": [],
   "source": [
    "G.vs['desc'] = list(map(lambda x: id_to_desc.get(int(x),x), G.vs['name']))\n",
    "G.vs['label'] = list(map(lambda x: id_to_names.get(int(x),x), G.vs['name']))"
   ]
  },
  {
   "cell_type": "code",
   "execution_count": 98,
   "id": "7714d905",
   "metadata": {},
   "outputs": [
    {
     "data": {
      "application/vnd.jupyter.widget-view+json": {
       "model_id": "0457a0d769204175a110804c67319a42",
       "version_major": 2,
       "version_minor": 0
      },
      "text/plain": [
       "Sigma(ig.Graph with 619 nodes and 1,080 edges)"
      ]
     },
     "execution_count": 98,
     "metadata": {},
     "output_type": "execute_result"
    }
   ],
   "source": [
    "Sigma(G, node_size=G.degree(mode='out'),\n",
    "      node_color=G.vs['community'], \n",
    "      hide_edges_on_move=True,\n",
    "      edge_color=edgelist_ir['link'].tolist(),\n",
    "      node_color_gradient='Viridis', node_label=G.vs['label'],\n",
    "     layout_settings = {\"barnesHutOptimize\":False,\n",
    "                       'gravity': 0.1})"
   ]
  },
  {
   "cell_type": "markdown",
   "id": "2c12b240",
   "metadata": {},
   "source": [
    "### incel and extreme left"
   ]
  },
  {
   "cell_type": "code",
   "execution_count": 99,
   "id": "cd76e36e",
   "metadata": {},
   "outputs": [],
   "source": [
    "edgelist_il = edgelist[(edgelist['link']=='incel') | (edgelist['link']=='left')]"
   ]
  },
  {
   "cell_type": "code",
   "execution_count": 100,
   "id": "34733b10",
   "metadata": {},
   "outputs": [],
   "source": [
    "G = ig.Graph.TupleList(edgelist_il.iloc[:,:3].itertuples(index=False), directed=True, weights=True)"
   ]
  },
  {
   "cell_type": "code",
   "execution_count": 101,
   "id": "9c9def4e",
   "metadata": {},
   "outputs": [],
   "source": [
    "## community detection\n",
    "communities = G.as_undirected().community_leiden(objective_function=\"modularity\")\n",
    "\n",
    "# add community as node label\n",
    "G.vs['community'] = communities.membership"
   ]
  },
  {
   "cell_type": "code",
   "execution_count": 102,
   "id": "11567ad1",
   "metadata": {},
   "outputs": [],
   "source": [
    "G.vs['desc'] = list(map(lambda x: id_to_desc.get(int(x),x), G.vs['name']))\n",
    "G.vs['label'] = list(map(lambda x: id_to_names.get(int(x),x), G.vs['name']))"
   ]
  },
  {
   "cell_type": "code",
   "execution_count": 103,
   "id": "fbf487cf",
   "metadata": {},
   "outputs": [
    {
     "data": {
      "application/vnd.jupyter.widget-view+json": {
       "model_id": "0f8e2ac75e91448aa17028d64e68ae80",
       "version_major": 2,
       "version_minor": 0
      },
      "text/plain": [
       "Sigma(ig.Graph with 909 nodes and 1,729 edges)"
      ]
     },
     "execution_count": 103,
     "metadata": {},
     "output_type": "execute_result"
    }
   ],
   "source": [
    "Sigma(G, node_size=G.degree(mode='out'),\n",
    "      node_color=G.vs['community'], \n",
    "      hide_edges_on_move=True,\n",
    "      edge_color=edgelist['link'].tolist(),\n",
    "      node_color_gradient='Viridis', node_label=G.vs['label'],\n",
    "     layout_settings = {\"barnesHutOptimize\":False,\n",
    "                       'gravity': 0.1})"
   ]
  },
  {
   "cell_type": "markdown",
   "id": "7d15e179",
   "metadata": {},
   "source": [
    "## comparison on total degree"
   ]
  },
  {
   "cell_type": "code",
   "execution_count": 104,
   "id": "55023e79",
   "metadata": {},
   "outputs": [],
   "source": [
    "nodes_incel = edgelist[edgelist['link']=='incel'].iloc[:,:2] #gets only forward_from and forward_to columns\n",
    "\n",
    "nodes_incel = nodes_incel.values.reshape((-1)) #flatten array\n",
    "\n",
    "nodes_incel = np.unique(nodes_incel) #get unique values"
   ]
  },
  {
   "cell_type": "code",
   "execution_count": 105,
   "id": "57aedfb2",
   "metadata": {},
   "outputs": [],
   "source": [
    "nodes_right = edgelist[edgelist['link']=='right'].iloc[:,:2] #gets only forward_from and forward_to columns\n",
    "\n",
    "nodes_right = nodes_right.values.reshape((-1)) #flatten array\n",
    "\n",
    "nodes_right = np.unique(nodes_right) #get unique values"
   ]
  },
  {
   "cell_type": "code",
   "execution_count": 106,
   "id": "2663184c",
   "metadata": {},
   "outputs": [],
   "source": [
    "nodes_left = edgelist[edgelist['link']=='left'].iloc[:,:2] #gets only forward_from and forward_to columns\n",
    "\n",
    "nodes_left = nodes_left.values.reshape((-1)) #flatten array\n",
    "\n",
    "nodes_left = np.unique(nodes_left) #get unique values"
   ]
  },
  {
   "cell_type": "markdown",
   "id": "3d3ef026",
   "metadata": {},
   "source": [
    "filter nodes common to all three"
   ]
  },
  {
   "cell_type": "code",
   "execution_count": 107,
   "id": "a3af70a5",
   "metadata": {},
   "outputs": [],
   "source": [
    "nodes_step_1 = nodes_incel[np.isin(nodes_incel, nodes_right)] #get nodes of incel network that are ALSO in right network\n",
    "common_nodes = nodes_step_1[np.isin(nodes_step_1, nodes_left)] #get nodes of intermediate step (present in both right and incel network) that are ALSO in left network"
   ]
  },
  {
   "cell_type": "code",
   "execution_count": 108,
   "id": "10597e59",
   "metadata": {},
   "outputs": [],
   "source": [
    "comparison_network_incel = edgelist[edgelist['link']=='incel'].iloc[:,:3] #get edgelist only incel\n",
    "comparison_network_left = edgelist[edgelist['link']=='left'].iloc[:,:3] #get edgelist only left\n",
    "comparison_network_right = edgelist[edgelist['link']=='right'].iloc[:,:3] #get edgelist only right\n",
    "\n",
    "G_incel = ig.Graph.TupleList(comparison_network_incel.itertuples(index=False), directed=True, weights=True)\n",
    "G_left = ig.Graph.TupleList(comparison_network_left.itertuples(index=False), directed=True, weights=True)\n",
    "G_right = ig.Graph.TupleList(comparison_network_right.itertuples(index=False), directed=True, weights=True)"
   ]
  },
  {
   "cell_type": "code",
   "execution_count": 109,
   "id": "714e34c5",
   "metadata": {},
   "outputs": [],
   "source": [
    "deg_dict_incel = dict(zip(G_incel.vs['name'], G_incel.degree())) \n",
    "deg_dict_left = dict(zip(G_left.vs['name'], G_left.degree()))\n",
    "deg_dict_right = dict(zip(G_right.vs['name'], G_right.degree())) \n",
    "\n",
    "dict_tot = {\n",
    "    'incel':deg_dict_incel,\n",
    "    'left':deg_dict_left,\n",
    "    'right':deg_dict_right\n",
    "}"
   ]
  },
  {
   "cell_type": "code",
   "execution_count": 110,
   "id": "e607de73",
   "metadata": {},
   "outputs": [],
   "source": [
    "def get_weights(x, key):\n",
    "    \"\"\"\n",
    "    x: node id,\n",
    "    key: 'left', 'right' or 'incel'\n",
    "\n",
    "    Get the degree of x in the correspondent network\n",
    "    \"\"\"\n",
    "\n",
    "    return dict_tot[key][x]"
   ]
  },
  {
   "cell_type": "code",
   "execution_count": 111,
   "id": "1ba6795e",
   "metadata": {},
   "outputs": [],
   "source": [
    "get_weights = np.vectorize(get_weights) #vectorize function so we can transfom the whole array in a sequence of weights"
   ]
  },
  {
   "cell_type": "code",
   "execution_count": 112,
   "id": "a024cffe",
   "metadata": {},
   "outputs": [
    {
     "data": {
      "text/plain": [
       "1.5909090909090908"
      ]
     },
     "execution_count": 112,
     "metadata": {},
     "output_type": "execute_result"
    }
   ],
   "source": [
    "get_weights(common_nodes, key='incel').sum() / get_weights(nodes_incel, key='incel').sum() * 100\n",
    "#1.5% of the nodes degrees in the incel network is composed by nodes that are in all three networks"
   ]
  },
  {
   "cell_type": "markdown",
   "id": "f84c278d",
   "metadata": {},
   "source": [
    "### incel-extreme right"
   ]
  },
  {
   "cell_type": "markdown",
   "id": "4592ab62",
   "metadata": {},
   "source": [
    "get how many nodes in the incel network are also in the right network and ARE NOT in the left one\n",
    "(using nodes degree in incel network as weights)"
   ]
  },
  {
   "cell_type": "code",
   "execution_count": 113,
   "id": "c3d0e29a",
   "metadata": {},
   "outputs": [],
   "source": [
    "filter_nodes = (np.isin(nodes_incel, nodes_right) & ~np.isin(nodes_incel, common_nodes)) \n",
    "nodes_incel_filtered = nodes_incel[filter_nodes] #get all nodes in nodes_incel that ARE in nodes_right and AREN'T in all three networks"
   ]
  },
  {
   "cell_type": "code",
   "execution_count": 114,
   "id": "a18b46ad",
   "metadata": {},
   "outputs": [
    {
     "name": "stdout",
     "output_type": "stream",
     "text": [
      "Incel weights : 3.295454545454545 %\n",
      "Right weights : 2.734375 %\n"
     ]
    }
   ],
   "source": [
    "print(f\"Incel weights : {get_weights(nodes_incel_filtered, 'incel').sum() / get_weights(nodes_incel, 'incel').sum() * 100} %\")\n",
    "#19.3% of the total of nodes degrees in the incel network is composed by nodes that are in the extreme right one\n",
    "\n",
    "\n",
    "print(f\"Right weights : {get_weights(nodes_incel_filtered, 'right').sum() / get_weights(nodes_right, 'right').sum() * 100} %\")\n",
    "#the total weight of the same nodes in the right network is slightly lower, 18.4%"
   ]
  },
  {
   "cell_type": "markdown",
   "id": "1de0588f",
   "metadata": {},
   "source": [
    "### incel-extreme left"
   ]
  },
  {
   "cell_type": "code",
   "execution_count": 115,
   "id": "be9f4ade",
   "metadata": {},
   "outputs": [],
   "source": [
    "filter_nodes = (np.isin(nodes_incel, nodes_left) & ~np.isin(nodes_incel, common_nodes)) \n",
    "nodes_incel_filtered = nodes_incel[filter_nodes] #get all nodes in nodes_incel that ARE in nodes_left and AREN'T in all three networks"
   ]
  },
  {
   "cell_type": "code",
   "execution_count": 116,
   "id": "d42c8a4c",
   "metadata": {},
   "outputs": [
    {
     "name": "stdout",
     "output_type": "stream",
     "text": [
      "Incel weights : 4.090909090909091 %\n",
      "Left weights : 0.3878975950349108 %\n"
     ]
    }
   ],
   "source": [
    "print(f\"Incel weights : {get_weights(nodes_incel_filtered, 'incel').sum() / get_weights(nodes_incel, 'incel').sum() * 100} %\")\n",
    "#11.22% of the total of nodes degrees in the incel network is composed by nodes that are in the extreme left one\n",
    "\n",
    "print(f\"Left weights : {get_weights(nodes_incel_filtered, 'left').sum() / get_weights(nodes_left, 'left').sum() * 100} %\")\n",
    "#the total weight of the same nodes in the left network is lower, 6%"
   ]
  }
 ],
 "metadata": {
  "kernelspec": {
   "display_name": "Python 3 (ipykernel)",
   "language": "python",
   "name": "python3"
  },
  "language_info": {
   "codemirror_mode": {
    "name": "ipython",
    "version": 3
   },
   "file_extension": ".py",
   "mimetype": "text/x-python",
   "name": "python",
   "nbconvert_exporter": "python",
   "pygments_lexer": "ipython3",
   "version": "3.8.18"
  }
 },
 "nbformat": 4,
 "nbformat_minor": 5
}
