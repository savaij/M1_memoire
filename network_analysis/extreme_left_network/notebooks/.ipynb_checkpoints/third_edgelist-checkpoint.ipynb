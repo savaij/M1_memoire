{
 "cells": [
  {
   "cell_type": "code",
   "execution_count": 1,
   "metadata": {},
   "outputs": [],
   "source": [
    "import pandas as pd\n",
    "import numpy as np\n",
    "from telethon.sync import TelegramClient\n",
    "from telethon.tl.types import PeerUser, PeerChat, PeerChannel, InputMessagesFilterPhotoVideo\n",
    "from telethon.tl.functions.channels import GetFullChannelRequest\n",
    "import json\n",
    "import re\n",
    "from telethon.errors import ChannelPrivateError\n",
    "import tqdm\n",
    "import glob\n",
    "import pickle"
   ]
  },
  {
   "cell_type": "code",
   "execution_count": 2,
   "metadata": {},
   "outputs": [],
   "source": [
    "with open('../credentials/credentials.pickle','rb') as file:\n",
    "    api_id, api_hash, phone, username = pickle.load(file)"
   ]
  },
  {
   "cell_type": "code",
   "execution_count": 3,
   "metadata": {},
   "outputs": [],
   "source": [
    "first_edgelist = pd.read_csv('../first_edgelist/first_edgelist.csv')"
   ]
  },
  {
   "cell_type": "code",
   "execution_count": 4,
   "metadata": {},
   "outputs": [],
   "source": [
    "second_edgelist = pd.read_csv('../second_edgelist/second_edgelist.csv')"
   ]
  },
  {
   "cell_type": "code",
   "execution_count": 5,
   "metadata": {},
   "outputs": [],
   "source": [
    "edgelist_total = pd.concat([first_edgelist, second_edgelist])"
   ]
  },
  {
   "cell_type": "code",
   "execution_count": 6,
   "metadata": {},
   "outputs": [],
   "source": [
    "unique_values = np.setdiff1d(second_edgelist['forward_from'], edgelist_total['forward_to'])\n",
    "#get only values from second iteration that are NOT in the total edgelist 'forward_to' column \n",
    "#because we have already done every 'forward_to' channel"
   ]
  },
  {
   "cell_type": "code",
   "execution_count": 7,
   "metadata": {},
   "outputs": [],
   "source": [
    "import datetime"
   ]
  },
  {
   "cell_type": "code",
   "execution_count": 8,
   "metadata": {},
   "outputs": [],
   "source": [
    "offset_date = datetime.datetime(2023,10,1)"
   ]
  },
  {
   "cell_type": "code",
   "execution_count": 9,
   "metadata": {},
   "outputs": [],
   "source": [
    "def get_channels_forward(lista_messaggi, receving_id):\n",
    "    \"\"\"\n",
    "    lista_messaggi: list of patched telethon messages\n",
    "    receving_id: id of the scraped group. So the forwarded_to idb\n",
    "\n",
    "    returns list of tuple with format (forwarded_from, forwarded_to)\n",
    "    where forwarded_to is the receving_id\n",
    "\n",
    "    \"\"\"\n",
    "    lista_fwd = []\n",
    "    for mex in lista_messaggi:\n",
    "        dict_mex = mex.to_dict()\n",
    "        if 'fwd_from' in dict_mex.keys() and dict_mex['fwd_from'] is not None:\n",
    "            fwd_info = dict_mex['fwd_from']['from_id']\n",
    "            if type(fwd_info) == dict and fwd_info['_']=='PeerChannel':\n",
    "                lista_fwd.append((fwd_info['channel_id'], receving_id))\n",
    "\n",
    "    return lista_fwd\n",
    "        "
   ]
  },
  {
   "cell_type": "markdown",
   "metadata": {},
   "source": [
    "get dictionaires so we can upload them"
   ]
  },
  {
   "cell_type": "code",
   "execution_count": 10,
   "metadata": {},
   "outputs": [],
   "source": [
    "with open('../dictionaires/id_to_names.json', 'r') as file:\n",
    "    id_to_names = json.load(file)\n",
    "\n",
    "with open('../dictionaires/id_to_desc.json', 'r') as file:\n",
    "    id_to_desc = json.load(file)"
   ]
  },
  {
   "cell_type": "code",
   "execution_count": 11,
   "metadata": {},
   "outputs": [],
   "source": [
    "id_to_names = dict(map(lambda x: (int(x[0]), x[1]),id_to_names.items())) #cast into integer\n",
    "id_to_desc = dict(map(lambda x: (int(x[0]), x[1]),id_to_desc.items()))"
   ]
  },
  {
   "cell_type": "code",
   "execution_count": 12,
   "metadata": {},
   "outputs": [],
   "source": [
    "async def get_data_channel(channel_id, offset_date, names_dict, desc_dict):\n",
    "    \"\"\"\n",
    "    Get all messages from channel NEWER than offset date (e.g. sent after offset date)\n",
    "\n",
    "    args:\n",
    "\n",
    "    channel_id: id of channel to be scraped (has to be an integer!)\n",
    "    offset_date: date limit \n",
    "    names_dict: dict of id-to-names\n",
    "    desc_dict: dict of id-to-bio\n",
    "    \n",
    "    return list of patcthed messages\n",
    "    \"\"\"\n",
    "    \n",
    "    async with TelegramClient(username, api_id, api_hash) as client:\n",
    "                entity = await client.get_entity(PeerChannel(channel_id))\n",
    "                full_entity = await client(GetFullChannelRequest(channel=entity))\n",
    "\n",
    "                names_dict[channel_id] = entity.title #get group name\n",
    "                desc_dict[channel_id] = full_entity.full_chat.about #get group bio\n",
    "\n",
    "                lista_mex = await client.get_messages(entity, reverse=True, offset_date=offset_date, limit=None)\n",
    "    \n",
    "    return lista_mex"
   ]
  },
  {
   "cell_type": "markdown",
   "metadata": {},
   "source": [
    "# check if there are temporary files:"
   ]
  },
  {
   "cell_type": "code",
   "execution_count": 13,
   "metadata": {},
   "outputs": [],
   "source": [
    "if glob.glob('../temporary_data/*.pickle'):\n",
    "    with open('../temporary_data/temporary_third_edgelist.pickle','rb') as file_edgelist,\\\n",
    "        open('../temporary_data/temporary_id_to_names.pickle','rb') as file_id_names,\\\n",
    "        open('../temporary_data/temporary_id_to_desc.pickle','rb') as file_id_desc,\\\n",
    "        open('../temporary_data/temporary_index.pickle','rb') as index_file:\n",
    "\n",
    "            third_edgelist_list = pickle.load(file_edgelist)\n",
    "            id_to_names = pickle.load(file_id_names)\n",
    "            id_to_desc = pickle.load(file_id_desc)\n",
    "            index = pickle.load(index_file)\n",
    "\n",
    "else:\n",
    "    third_edgelist_list = []\n",
    "    index=0\n",
    "    #dictionaires would be already saved as variables because of the other cells\n"
   ]
  },
  {
   "cell_type": "code",
   "execution_count": 15,
   "metadata": {},
   "outputs": [
    {
     "name": "stderr",
     "output_type": "stream",
     "text": [
      "  2%|▊                                        | 7/355 [02:40<1:40:05, 17.26s/it]"
     ]
    },
    {
     "name": "stdout",
     "output_type": "stream",
     "text": [
      "The channel specified is private and you lack permission to access it. Another reason may be that you were banned from it (caused by GetChannelsRequest)\n"
     ]
    },
    {
     "name": "stderr",
     "output_type": "stream",
     "text": [
      "  2%|▉                                        | 8/355 [02:40<1:08:58, 11.93s/it]"
     ]
    },
    {
     "name": "stdout",
     "output_type": "stream",
     "text": [
      "The channel specified is private and you lack permission to access it. Another reason may be that you were banned from it (caused by GetChannelsRequest)\n"
     ]
    },
    {
     "name": "stderr",
     "output_type": "stream",
     "text": [
      " 43%|█████████████████▌                       | 152/355 [44:12<36:14, 10.71s/it]"
     ]
    },
    {
     "name": "stdout",
     "output_type": "stream",
     "text": [
      "The channel specified is private and you lack permission to access it. Another reason may be that you were banned from it (caused by GetChannelsRequest)\n"
     ]
    },
    {
     "name": "stderr",
     "output_type": "stream",
     "text": [
      " 46%|██████████████████▊                      | 163/355 [50:53<27:36,  8.63s/it]"
     ]
    },
    {
     "name": "stdout",
     "output_type": "stream",
     "text": [
      "The channel specified is private and you lack permission to access it. Another reason may be that you were banned from it (caused by GetChannelsRequest)\n"
     ]
    },
    {
     "name": "stderr",
     "output_type": "stream",
     "text": [
      " 59%|█████████████████████▊               | 209/355 [1:16:39<2:55:04, 71.95s/it]"
     ]
    },
    {
     "name": "stdout",
     "output_type": "stream",
     "text": [
      "The channel specified is private and you lack permission to access it. Another reason may be that you were banned from it (caused by GetChannelsRequest)\n"
     ]
    },
    {
     "name": "stderr",
     "output_type": "stream",
     "text": [
      " 60%|███████████████████████▍               | 213/355 [1:17:00<47:28, 20.06s/it]"
     ]
    },
    {
     "name": "stdout",
     "output_type": "stream",
     "text": [
      "The channel specified is private and you lack permission to access it. Another reason may be that you were banned from it (caused by GetChannelsRequest)\n"
     ]
    },
    {
     "name": "stderr",
     "output_type": "stream",
     "text": [
      " 68%|██████████████████████████▌            | 242/355 [1:23:14<05:27,  2.90s/it]"
     ]
    },
    {
     "name": "stdout",
     "output_type": "stream",
     "text": [
      "The channel specified is private and you lack permission to access it. Another reason may be that you were banned from it (caused by GetChannelsRequest)\n"
     ]
    },
    {
     "name": "stderr",
     "output_type": "stream",
     "text": [
      " 70%|███████████████████████████▏           | 247/355 [1:23:49<13:00,  7.23s/it]"
     ]
    },
    {
     "name": "stdout",
     "output_type": "stream",
     "text": [
      "The channel specified is private and you lack permission to access it. Another reason may be that you were banned from it (caused by GetChannelsRequest)\n"
     ]
    },
    {
     "name": "stderr",
     "output_type": "stream",
     "text": [
      " 72%|███████████████████████████▉           | 254/355 [1:24:06<04:18,  2.56s/it]"
     ]
    },
    {
     "name": "stdout",
     "output_type": "stream",
     "text": [
      "The channel specified is private and you lack permission to access it. Another reason may be that you were banned from it (caused by GetChannelsRequest)\n"
     ]
    },
    {
     "name": "stderr",
     "output_type": "stream",
     "text": [
      " 77%|█████████████████████████████▉         | 272/355 [1:25:53<03:57,  2.86s/it]"
     ]
    },
    {
     "name": "stdout",
     "output_type": "stream",
     "text": [
      "The channel specified is private and you lack permission to access it. Another reason may be that you were banned from it (caused by GetChannelsRequest)\n"
     ]
    },
    {
     "name": "stderr",
     "output_type": "stream",
     "text": [
      " 77%|█████████████████████████████▉         | 273/355 [1:25:54<02:53,  2.12s/it]"
     ]
    },
    {
     "name": "stdout",
     "output_type": "stream",
     "text": [
      "The channel specified is private and you lack permission to access it. Another reason may be that you were banned from it (caused by GetChannelsRequest)\n"
     ]
    },
    {
     "name": "stderr",
     "output_type": "stream",
     "text": [
      " 79%|██████████████████████████████▉        | 282/355 [1:26:48<06:31,  5.37s/it]"
     ]
    },
    {
     "name": "stdout",
     "output_type": "stream",
     "text": [
      "The channel specified is private and you lack permission to access it. Another reason may be that you were banned from it (caused by GetChannelsRequest)\n"
     ]
    },
    {
     "name": "stderr",
     "output_type": "stream",
     "text": [
      " 89%|██████████████████████████████████▋    | 316/355 [1:30:28<01:09,  1.78s/it]"
     ]
    },
    {
     "name": "stdout",
     "output_type": "stream",
     "text": [
      "The channel specified is private and you lack permission to access it. Another reason may be that you were banned from it (caused by GetChannelsRequest)\n"
     ]
    },
    {
     "name": "stderr",
     "output_type": "stream",
     "text": [
      " 94%|████████████████████████████████████▋  | 334/355 [1:30:59<00:29,  1.40s/it]"
     ]
    },
    {
     "name": "stdout",
     "output_type": "stream",
     "text": [
      "The channel specified is private and you lack permission to access it. Another reason may be that you were banned from it (caused by GetChannelsRequest)\n"
     ]
    },
    {
     "name": "stderr",
     "output_type": "stream",
     "text": [
      "100%|███████████████████████████████████████| 355/355 [1:33:36<00:00, 15.82s/it]\n"
     ]
    }
   ],
   "source": [
    "start_value = index\n",
    "final_value = len(unique_values)\n",
    "for index in tqdm.tqdm(range(start_value, final_value)):\n",
    "    codice = unique_values[index]\n",
    "    try:\n",
    "        list_messages = await get_data_channel(int(codice), offset_date, id_to_names, id_to_desc)\n",
    "        list_tuples = get_channels_forward(list_messages, codice)\n",
    "        third_edgelist_list.extend(list_tuples)\n",
    "    except(ChannelPrivateError, ValueError) as e:\n",
    "        print(e)"
   ]
  },
  {
   "cell_type": "markdown",
   "metadata": {},
   "source": [
    "<details> \n",
    "<summary>code to execute if we interrupt the iteration</summary>\n",
    "\n",
    "\n",
    "``` python\n",
    "with open('./temporary_data/temporary_third_edgelist.pickle','wb') as file_edgelist,\\\n",
    "    open('./temporary_data/temporary_id_to_names.pickle','wb') as file_id_names,\\\n",
    "        open('./temporary_data/temporary_id_to_desc.pickle','wb') as file_id_desc,\\\n",
    "        open('./temporary_data/temporary_index.pickle','wb') as index_file:\n",
    "\n",
    "        pickle.dump(third_edgelist_list, file_edgelist)\n",
    "        pickle.dump(id_to_names, file_id_names)\n",
    "        pickle.dump(id_to_desc, file_id_desc)\n",
    "        pickle.dump(index, index_file)\n",
    "```\n",
    "\n",
    "</details>\n"
   ]
  },
  {
   "cell_type": "code",
   "execution_count": 17,
   "metadata": {},
   "outputs": [],
   "source": [
    "with open('../temporary_data/temporary_third_edgelist.pickle','wb') as file_edgelist,\\\n",
    "    open('../temporary_data/temporary_id_to_names.pickle','wb') as file_id_names,\\\n",
    "        open('../temporary_data/temporary_id_to_desc.pickle','wb') as file_id_desc,\\\n",
    "        open('../temporary_data/temporary_index.pickle','wb') as index_file:\n",
    "\n",
    "        pickle.dump(third_edgelist_list, file_edgelist)\n",
    "        pickle.dump(id_to_names, file_id_names)\n",
    "        pickle.dump(id_to_desc, file_id_desc)\n",
    "        pickle.dump(index, index_file)"
   ]
  },
  {
   "cell_type": "code",
   "execution_count": 18,
   "metadata": {},
   "outputs": [],
   "source": [
    "forward_from = list(map(lambda x: x[0], third_edgelist_list))\n",
    "forward_to = list(map(lambda x: x[1], third_edgelist_list))"
   ]
  },
  {
   "cell_type": "code",
   "execution_count": 19,
   "metadata": {},
   "outputs": [],
   "source": [
    "third_edgelist_df_raw = pd.DataFrame({'forward_from':forward_from,\\\n",
    "    'forward_to':forward_to})"
   ]
  },
  {
   "cell_type": "code",
   "execution_count": 20,
   "metadata": {},
   "outputs": [],
   "source": [
    "third_edgelist = third_edgelist_df_raw.value_counts().reset_index()"
   ]
  },
  {
   "cell_type": "code",
   "execution_count": 21,
   "metadata": {},
   "outputs": [
    {
     "data": {
      "text/html": [
       "<div>\n",
       "<style scoped>\n",
       "    .dataframe tbody tr th:only-of-type {\n",
       "        vertical-align: middle;\n",
       "    }\n",
       "\n",
       "    .dataframe tbody tr th {\n",
       "        vertical-align: top;\n",
       "    }\n",
       "\n",
       "    .dataframe thead th {\n",
       "        text-align: right;\n",
       "    }\n",
       "</style>\n",
       "<table border=\"1\" class=\"dataframe\">\n",
       "  <thead>\n",
       "    <tr style=\"text-align: right;\">\n",
       "      <th></th>\n",
       "      <th>forward_from</th>\n",
       "      <th>forward_to</th>\n",
       "      <th>count</th>\n",
       "    </tr>\n",
       "  </thead>\n",
       "  <tbody>\n",
       "    <tr>\n",
       "      <th>0</th>\n",
       "      <td>1654513755</td>\n",
       "      <td>1539622584</td>\n",
       "      <td>2667</td>\n",
       "    </tr>\n",
       "    <tr>\n",
       "      <th>1</th>\n",
       "      <td>1172517043</td>\n",
       "      <td>1702600049</td>\n",
       "      <td>1443</td>\n",
       "    </tr>\n",
       "    <tr>\n",
       "      <th>2</th>\n",
       "      <td>2138279330</td>\n",
       "      <td>2141331735</td>\n",
       "      <td>1242</td>\n",
       "    </tr>\n",
       "    <tr>\n",
       "      <th>3</th>\n",
       "      <td>1009682794</td>\n",
       "      <td>1047936974</td>\n",
       "      <td>1047</td>\n",
       "    </tr>\n",
       "    <tr>\n",
       "      <th>4</th>\n",
       "      <td>1009682794</td>\n",
       "      <td>1346263268</td>\n",
       "      <td>1004</td>\n",
       "    </tr>\n",
       "    <tr>\n",
       "      <th>...</th>\n",
       "      <td>...</td>\n",
       "      <td>...</td>\n",
       "      <td>...</td>\n",
       "    </tr>\n",
       "    <tr>\n",
       "      <th>8422</th>\n",
       "      <td>1462876169</td>\n",
       "      <td>1796884368</td>\n",
       "      <td>1</td>\n",
       "    </tr>\n",
       "    <tr>\n",
       "      <th>8423</th>\n",
       "      <td>1462876169</td>\n",
       "      <td>1572759472</td>\n",
       "      <td>1</td>\n",
       "    </tr>\n",
       "    <tr>\n",
       "      <th>8424</th>\n",
       "      <td>1462876169</td>\n",
       "      <td>1559120377</td>\n",
       "      <td>1</td>\n",
       "    </tr>\n",
       "    <tr>\n",
       "      <th>8425</th>\n",
       "      <td>1462588285</td>\n",
       "      <td>1102335963</td>\n",
       "      <td>1</td>\n",
       "    </tr>\n",
       "    <tr>\n",
       "      <th>8426</th>\n",
       "      <td>2146800160</td>\n",
       "      <td>1822184731</td>\n",
       "      <td>1</td>\n",
       "    </tr>\n",
       "  </tbody>\n",
       "</table>\n",
       "<p>8427 rows × 3 columns</p>\n",
       "</div>"
      ],
      "text/plain": [
       "      forward_from  forward_to  count\n",
       "0       1654513755  1539622584   2667\n",
       "1       1172517043  1702600049   1443\n",
       "2       2138279330  2141331735   1242\n",
       "3       1009682794  1047936974   1047\n",
       "4       1009682794  1346263268   1004\n",
       "...            ...         ...    ...\n",
       "8422    1462876169  1796884368      1\n",
       "8423    1462876169  1572759472      1\n",
       "8424    1462876169  1559120377      1\n",
       "8425    1462588285  1102335963      1\n",
       "8426    2146800160  1822184731      1\n",
       "\n",
       "[8427 rows x 3 columns]"
      ]
     },
     "execution_count": 21,
     "metadata": {},
     "output_type": "execute_result"
    }
   ],
   "source": [
    "third_edgelist"
   ]
  },
  {
   "cell_type": "code",
   "execution_count": 22,
   "metadata": {},
   "outputs": [],
   "source": [
    "third_edgelist.to_csv('../third_edgelist/third_edgelist.csv', index=False)"
   ]
  },
  {
   "cell_type": "code",
   "execution_count": 23,
   "metadata": {},
   "outputs": [],
   "source": [
    "id_to_names_int = dict(map(lambda x: (int(x[0]),x[1]),id_to_names.items()))\n",
    "id_to_desc_int = dict(map(lambda x: (int(x[0]),x[1]),id_to_desc.items()))"
   ]
  },
  {
   "cell_type": "code",
   "execution_count": 24,
   "metadata": {},
   "outputs": [],
   "source": [
    "with open('../dictionaires/id_to_names.json','w') as file_names, \\\n",
    "    open('../dictionaires/id_to_desc.json','w') as file_desc:\n",
    "    json.dump(id_to_names_int, file_names)\n",
    "    json.dump(id_to_desc_int, file_desc)"
   ]
  },
  {
   "cell_type": "code",
   "execution_count": null,
   "metadata": {},
   "outputs": [],
   "source": []
  }
 ],
 "metadata": {
  "kernelspec": {
   "display_name": "Python 3 (ipykernel)",
   "language": "python",
   "name": "python3"
  },
  "language_info": {
   "codemirror_mode": {
    "name": "ipython",
    "version": 3
   },
   "file_extension": ".py",
   "mimetype": "text/x-python",
   "name": "python",
   "nbconvert_exporter": "python",
   "pygments_lexer": "ipython3",
   "version": "3.12.1"
  }
 },
 "nbformat": 4,
 "nbformat_minor": 4
}
