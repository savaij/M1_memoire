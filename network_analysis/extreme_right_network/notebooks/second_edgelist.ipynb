{
 "cells": [
  {
   "cell_type": "code",
   "execution_count": 24,
   "metadata": {},
   "outputs": [],
   "source": [
    "import pandas as pd\n",
    "import numpy as np\n",
    "from telethon.sync import TelegramClient\n",
    "from telethon.tl.types import PeerUser, PeerChat, PeerChannel, InputMessagesFilterPhotoVideo\n",
    "from telethon.tl.functions.channels import GetFullChannelRequest\n",
    "import json\n",
    "import re\n",
    "from telethon.errors import ChannelPrivateError\n",
    "import pickle\n",
    "import tqdm\n",
    "import glob"
   ]
  },
  {
   "cell_type": "code",
   "execution_count": 2,
   "metadata": {},
   "outputs": [],
   "source": [
    "with open('../credentials/credentials.pickle','rb') as file:\n",
    "    api_id, api_hash, phone, username = pickle.load(file)"
   ]
  },
  {
   "cell_type": "code",
   "execution_count": 3,
   "metadata": {},
   "outputs": [],
   "source": [
    "first_edgelist = pd.read_csv('../first_edgelist/first_edgelist.csv')"
   ]
  },
  {
   "cell_type": "markdown",
   "metadata": {},
   "source": [
    "Let's start building a dictionnaire id_to_names and id_to_description.\n",
    "We start from 'forward_to' of the first edgelist (there will be only Azione Incel and FDB)"
   ]
  },
  {
   "cell_type": "code",
   "execution_count": 4,
   "metadata": {},
   "outputs": [],
   "source": [
    "with open('../dictionaires/id_to_names.json', 'r') as file:\n",
    "    id_to_names = json.load(file)\n",
    "\n",
    "with open('../dictionaires/id_to_desc.json', 'r') as file:\n",
    "    id_to_desc = json.load(file)"
   ]
  },
  {
   "cell_type": "code",
   "execution_count": 11,
   "metadata": {},
   "outputs": [],
   "source": [
    "id_to_names = dict(map(lambda x: (int(x[0]), x[1]),id_to_names.items())) #cast into integer\n",
    "id_to_desc = dict(map(lambda x: (int(x[0]), x[1]),id_to_desc.items()))"
   ]
  },
  {
   "cell_type": "code",
   "execution_count": 12,
   "metadata": {},
   "outputs": [],
   "source": [
    "unique_values = np.setdiff1d(first_edgelist['forward_from'], first_edgelist['forward_to'])\n",
    "#get only values in \"forward_from\" that ARE NOT in \"forward_to\" because we already did every \"forward_to\""
   ]
  },
  {
   "cell_type": "code",
   "execution_count": 13,
   "metadata": {},
   "outputs": [
    {
     "data": {
      "text/plain": [
       "array([1175952757, 1177310741, 1182409216, 1216001239, 1216987129,\n",
       "       1226866970, 1241907375, 1242031478, 1281032141, 1318655547,\n",
       "       1355997151, 1392773702, 1455830529, 1480147271, 1506064089,\n",
       "       1510627978, 1553618785, 1554578584, 1573599559, 1586195079,\n",
       "       1611808700, 1623963447, 1636550716, 1655441290, 1659816199,\n",
       "       1691299588, 1712348366, 1713781188, 1723813463, 1729608542,\n",
       "       1751034477, 1757951604, 1768039844, 1787190842, 1796096784,\n",
       "       1849977466, 1850972694, 1854612234, 1856892401, 1871322814,\n",
       "       1876121761, 1879320718, 1879647616, 1919608063, 1956399677,\n",
       "       1985819232, 2071879003, 2098891001, 2101278126, 2114197819,\n",
       "       2138457338, 2139720080, 2142434931])"
      ]
     },
     "execution_count": 13,
     "metadata": {},
     "output_type": "execute_result"
    }
   ],
   "source": [
    "unique_values"
   ]
  },
  {
   "cell_type": "code",
   "execution_count": 16,
   "metadata": {},
   "outputs": [
    {
     "data": {
      "text/plain": [
       "{1344471586: 'Telegram https://t.me/CentroStvdiFascismo\\nSito https://centrostvdifascismo.wordpress.com\\nCinematografo https://odysee.com/@CentroStvdiFascismo\\nWhatsapp https://whatsapp.com/channel/0029VaIejYSF1YlXO33jX32X\\nContatti centrostudifascismo@virgilio.it',\n",
       " 1394864973: \"Canale ufficiale del movimento studentesco più rivoluzionario d'Italia - dal 2006\"}"
      ]
     },
     "execution_count": 16,
     "metadata": {},
     "output_type": "execute_result"
    }
   ],
   "source": [
    "id_to_desc"
   ]
  },
  {
   "cell_type": "code",
   "execution_count": 17,
   "metadata": {},
   "outputs": [],
   "source": [
    "import datetime"
   ]
  },
  {
   "cell_type": "code",
   "execution_count": 18,
   "metadata": {},
   "outputs": [],
   "source": [
    "offset_date = datetime.datetime(2023,10,1)"
   ]
  },
  {
   "cell_type": "code",
   "execution_count": 19,
   "metadata": {},
   "outputs": [],
   "source": [
    "def get_channels_forward(lista_messaggi, receving_id):\n",
    "    \"\"\"\n",
    "    lista_messaggi: list of patched telethon messages\n",
    "    receving_id: id of the scraped group. So the forwarded_to id\n",
    "\n",
    "    returns list of tuple with format (forwarded_from, forwarded_to)\n",
    "    where forwarded_to is the receving_id\n",
    "\n",
    "    \"\"\"\n",
    "    lista_fwd = []\n",
    "    for mex in lista_messaggi:\n",
    "        dict_mex = mex.to_dict()\n",
    "        if 'fwd_from' in dict_mex.keys() and dict_mex['fwd_from'] is not None:\n",
    "            fwd_info = dict_mex['fwd_from']['from_id']\n",
    "            if type(fwd_info) == dict and fwd_info['_']=='PeerChannel':\n",
    "                lista_fwd.append((fwd_info['channel_id'], receving_id))\n",
    "\n",
    "    return lista_fwd\n",
    "        "
   ]
  },
  {
   "cell_type": "code",
   "execution_count": 20,
   "metadata": {},
   "outputs": [],
   "source": [
    "async def get_data_channel(channel_id, offset_date, names_dict, desc_dict):\n",
    "    \"\"\"\n",
    "    Get all messages from channel NEWER than offset date (e.g. sent after offset date)\n",
    "\n",
    "    args:\n",
    "\n",
    "    channel_id: id of channel to be scraped (has to be an integer!)\n",
    "    offset_date: date limit \n",
    "    names_dict: dict of id-to-names\n",
    "    desc_dict: dict of id-to-bio\n",
    "    \n",
    "    return list of patcthed messages\n",
    "    \"\"\"\n",
    "    \n",
    "    async with TelegramClient(username, api_id, api_hash) as client:\n",
    "                entity = await client.get_entity(PeerChannel(channel_id))\n",
    "                full_entity = await client(GetFullChannelRequest(channel=entity))\n",
    "\n",
    "                names_dict[channel_id] = entity.title #get group name\n",
    "                desc_dict[channel_id] = full_entity.full_chat.about #get group bio\n",
    "\n",
    "                lista_mex = await client.get_messages(entity, reverse=True, offset_date=offset_date, limit=None)\n",
    "    \n",
    "    return lista_mex"
   ]
  },
  {
   "cell_type": "code",
   "execution_count": 29,
   "metadata": {},
   "outputs": [],
   "source": [
    "if glob.glob('../temporary_data/*.pickle'):\n",
    "    with open('../temporary_data/temporary_third_edgelist.pickle','rb') as file_edgelist,\\\n",
    "        open('../temporary_data/temporary_id_to_names.pickle','rb') as file_id_names,\\\n",
    "        open('../temporary_data/temporary_id_to_desc.pickle','rb') as file_id_desc,\\\n",
    "        open('../temporary_data/temporary_index.pickle','rb') as index_file:\n",
    "\n",
    "            third_edgelist_list = pickle.load(file_edgelist)\n",
    "            id_to_names = pickle.load(file_id_names)\n",
    "            id_to_desc = pickle.load(file_id_desc)\n",
    "            index = pickle.load(index_file)\n",
    "\n",
    "else:\n",
    "    second_edgelist_list = []\n",
    "    index=0"
   ]
  },
  {
   "cell_type": "code",
   "execution_count": 30,
   "metadata": {},
   "outputs": [
    {
     "data": {
      "text/plain": [
       "0"
      ]
     },
     "execution_count": 30,
     "metadata": {},
     "output_type": "execute_result"
    }
   ],
   "source": [
    "index"
   ]
  },
  {
   "cell_type": "code",
   "execution_count": 31,
   "metadata": {},
   "outputs": [
    {
     "name": "stdout",
     "output_type": "stream",
     "text": [
      "The channel specified is private and you lack permission to access it. Another reason may be that you were banned from it (caused by GetChannelsRequest)\n",
      "The channel specified is private and you lack permission to access it. Another reason may be that you were banned from it (caused by GetChannelsRequest)\n"
     ]
    }
   ],
   "source": [
    "start_value = index\n",
    "final_value = len(unique_values)\n",
    "for index in range(start_value,final_value):\n",
    "    codice = unique_values[index]\n",
    "    try:\n",
    "        list_messages = await get_data_channel(int(codice), offset_date, id_to_names, id_to_desc)\n",
    "        list_tuples = get_channels_forward(list_messages, codice)\n",
    "        second_edgelist_list.extend(list_tuples)\n",
    "    except(ChannelPrivateError, ValueError) as e:\n",
    "        print(e)"
   ]
  },
  {
   "cell_type": "code",
   "execution_count": 35,
   "metadata": {},
   "outputs": [],
   "source": [
    "forward_from = list(map(lambda x: x[0], second_edgelist_list))\n",
    "forward_to = list(map(lambda x: x[1], second_edgelist_list))"
   ]
  },
  {
   "cell_type": "code",
   "execution_count": 36,
   "metadata": {},
   "outputs": [],
   "source": [
    "second_edgelist_df_raw = pd.DataFrame({'forward_from':forward_from,\\\n",
    "    'forward_to':forward_to})"
   ]
  },
  {
   "cell_type": "code",
   "execution_count": 39,
   "metadata": {},
   "outputs": [],
   "source": [
    "#save edgelist\n",
    "second_edgelist = second_edgelist_df_raw.value_counts().reset_index()\n",
    "second_edgelist.to_csv('../second_edgelist/second_edgelist.csv',index=False)"
   ]
  },
  {
   "cell_type": "code",
   "execution_count": 43,
   "metadata": {},
   "outputs": [],
   "source": [
    "#need to cast keys as int (instead of int64) to dump json\n",
    "id_to_names_int = dict(map(lambda x: (int(x[0]),x[1]),id_to_names.items()))\n",
    "id_to_desc_int = dict(map(lambda x: (int(x[0]),x[1]),id_to_desc.items()))"
   ]
  },
  {
   "cell_type": "code",
   "execution_count": 44,
   "metadata": {},
   "outputs": [],
   "source": [
    "with open('../dictionaires/id_to_names.json','w') as file_names, \\\n",
    "    open('../dictionaires/id_to_desc.json','w') as file_desc:\n",
    "    json.dump(id_to_names_int, file_names)\n",
    "    json.dump(id_to_desc_int, file_desc)"
   ]
  },
  {
   "cell_type": "code",
   "execution_count": null,
   "metadata": {},
   "outputs": [],
   "source": []
  }
 ],
 "metadata": {
  "kernelspec": {
   "display_name": "Python 3 (ipykernel)",
   "language": "python",
   "name": "python3"
  },
  "language_info": {
   "codemirror_mode": {
    "name": "ipython",
    "version": 3
   },
   "file_extension": ".py",
   "mimetype": "text/x-python",
   "name": "python",
   "nbconvert_exporter": "python",
   "pygments_lexer": "ipython3",
   "version": "3.12.1"
  }
 },
 "nbformat": 4,
 "nbformat_minor": 4
}
