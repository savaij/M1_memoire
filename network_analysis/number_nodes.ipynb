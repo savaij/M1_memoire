{
 "cells": [
  {
   "cell_type": "code",
   "execution_count": 18,
   "metadata": {},
   "outputs": [],
   "source": [
    "import pandas as pd\n",
    "import igraph as ig\n",
    "from ipysigma import Sigma\n",
    "import glob\n",
    "import json\n",
    "import numpy as np\n",
    "from collections import Counter\n",
    "from scipy.stats import zscore\n",
    "import matplotlib.pyplot as plt"
   ]
  },
  {
   "cell_type": "markdown",
   "metadata": {},
   "source": [
    "# Comparison on three iteration"
   ]
  },
  {
   "cell_type": "code",
   "execution_count": 19,
   "metadata": {},
   "outputs": [],
   "source": [
    "edgelist_incel = pd.DataFrame(columns=['forward_from','forward_to','count','iteration'])\n",
    "for path in glob.glob('./incel*/*_edgelist/*edgelist*.csv'):\n",
    "    df = pd.read_csv(path)\n",
    "    if 'first' in path:\n",
    "        c = 1\n",
    "    elif 'second' in path:\n",
    "        c = 2\n",
    "    elif 'third' in path:\n",
    "        c = 3\n",
    "    df['iteration'] = [c]*len(df)\n",
    "    edgelist_incel = pd.concat([edgelist_incel,df])"
   ]
  },
  {
   "cell_type": "code",
   "execution_count": 20,
   "metadata": {},
   "outputs": [],
   "source": [
    "edgelist_incel['link'] = ['incel']*len(edgelist_incel)"
   ]
  },
  {
   "cell_type": "code",
   "execution_count": 21,
   "metadata": {},
   "outputs": [],
   "source": [
    "edgelist_right = pd.DataFrame(columns=['forward_from','forward_to','count'])\n",
    "for path in glob.glob('./*right*/*_edgelist/*edgelist*.csv'):\n",
    "    df = pd.read_csv(path)\n",
    "    if 'first' in path:\n",
    "        c = 1\n",
    "    elif 'second' in path:\n",
    "        c = 2\n",
    "    elif 'third' in path:\n",
    "        c = 3\n",
    "    df['iteration'] = [c]*len(df)\n",
    "    edgelist_right = pd.concat([edgelist_right,df])"
   ]
  },
  {
   "cell_type": "code",
   "execution_count": 22,
   "metadata": {},
   "outputs": [],
   "source": [
    "edgelist_right['link'] = ['right']*len(edgelist_right)"
   ]
  },
  {
   "cell_type": "code",
   "execution_count": 23,
   "metadata": {},
   "outputs": [],
   "source": [
    "edgelist_left = pd.DataFrame(columns=['forward_from','forward_to','count'])\n",
    "for path in glob.glob('./*left*/*_edgelist/*edgelist*.csv'):\n",
    "    df = pd.read_csv(path)\n",
    "    if 'first' in path:\n",
    "        c = 1\n",
    "    elif 'second' in path:\n",
    "        c = 2\n",
    "    elif 'third' in path:\n",
    "        c = 3\n",
    "    df['iteration'] = [c]*len(df)\n",
    "    edgelist_left = pd.concat([edgelist_left,df])"
   ]
  },
  {
   "cell_type": "code",
   "execution_count": 24,
   "metadata": {},
   "outputs": [],
   "source": [
    "edgelist_left['link'] = ['left']*len(edgelist_left)"
   ]
  },
  {
   "cell_type": "code",
   "execution_count": 25,
   "metadata": {},
   "outputs": [],
   "source": [
    "edgelist = pd.concat([edgelist_incel, edgelist_left, edgelist_right])"
   ]
  },
  {
   "cell_type": "code",
   "execution_count": 26,
   "metadata": {},
   "outputs": [
    {
     "data": {
      "text/plain": [
       "576"
      ]
     },
     "execution_count": 26,
     "metadata": {},
     "output_type": "execute_result"
    }
   ],
   "source": [
    "len(np.unique(df[['forward_from','forward_to']].values.flatten()))"
   ]
  },
  {
   "cell_type": "code",
   "execution_count": 27,
   "metadata": {},
   "outputs": [],
   "source": [
    "data_total = []\n",
    "for iteration in range(1,4):\n",
    "    row = [iteration]\n",
    "    for category in ['incel','right','left']:\n",
    "        df = edgelist[(edgelist['link']==category) & (edgelist['iteration']<=iteration)]\n",
    "        n_nodes = len(np.unique(df[['forward_from','forward_to']].values.flatten()))\n",
    "        row.append(n_nodes)\n",
    "    data_total.append(row)"
   ]
  },
  {
   "cell_type": "code",
   "execution_count": 28,
   "metadata": {},
   "outputs": [],
   "source": [
    "df_count = pd.DataFrame(data= data_total, columns=['iteration','incel','far-right','far-left'])"
   ]
  },
  {
   "cell_type": "code",
   "execution_count": 29,
   "metadata": {},
   "outputs": [],
   "source": [
    "df_count = df_count.rename(columns={'iteration':'Iteration'})"
   ]
  },
  {
   "cell_type": "code",
   "execution_count": 30,
   "metadata": {},
   "outputs": [],
   "source": [
    "from matplotlib import rc\n",
    "rc('text', usetex=True)\n",
    "rc('font', size=12)\n",
    "rc('font', family='Times New Roman')\n",
    "rc('legend', fontsize=13)\n",
    "rc('text.latex', preamble=r'\\usepackage{cmbright}')"
   ]
  },
  {
   "cell_type": "code",
   "execution_count": 31,
   "metadata": {},
   "outputs": [
    {
     "data": {
      "image/png": "[encoded data removed]",
      "text/plain": [
       "<Figure size 640x480 with 1 Axes>"
      ]
     },
     "metadata": {},
     "output_type": "display_data"
    }
   ],
   "source": [
    "df_count.plot(x='Iteration',\n",
    "              kind='bar')\n",
    "plt.xticks(rotation=0)\n",
    "plt.ylabel('Number of channels')\n",
    "plt.savefig('../report_latex/img/n_nodes_output.png', dpi=300)"
   ]
  },
  {
   "cell_type": "code",
   "execution_count": 53,
   "metadata": {},
   "outputs": [
    {
     "data": {
      "text/plain": [
       "incel        0.643037\n",
       "far-right    0.509071\n",
       "far-left    -1.152107\n",
       "Name: 2, dtype: float64"
      ]
     },
     "execution_count": 53,
     "metadata": {},
     "output_type": "execute_result"
    }
   ],
   "source": [
    "pd.Series((df_count.iloc[2,1:] - df_count.iloc[2,1:].mean()) / df_count.iloc[2,1:].std(ddof=1))\n",
    "#z-scores"
   ]
  }
 ],
 "metadata": {
  "kernelspec": {
   "display_name": "python4HN",
   "language": "python",
   "name": "python3"
  },
  "language_info": {
   "codemirror_mode": {
    "name": "ipython",
    "version": 3
   },
   "file_extension": ".py",
   "mimetype": "text/x-python",
   "name": "python",
   "nbconvert_exporter": "python",
   "pygments_lexer": "ipython3",
   "version": "3.8.18"
  }
 },
 "nbformat": 4,
 "nbformat_minor": 2
}
