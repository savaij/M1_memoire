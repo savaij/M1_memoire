{
 "cells": [
  {
   "cell_type": "code",
   "execution_count": 1,
   "metadata": {},
   "outputs": [],
   "source": [
    "import pandas as pd\n",
    "import igraph as ig\n",
    "from ipysigma import Sigma\n",
    "import glob\n",
    "import json\n",
    "import numpy as np\n",
    "from collections import Counter\n",
    "import matplotlib.pyplot as plt"
   ]
  },
  {
   "cell_type": "markdown",
   "metadata": {},
   "source": [
    "# Comparison on three iteration"
   ]
  },
  {
   "cell_type": "code",
   "execution_count": 2,
   "metadata": {},
   "outputs": [],
   "source": [
    "edgelist_incel = pd.DataFrame(columns=['forward_from','forward_to','count'])\n",
    "\n",
    "for path in glob.glob('./incel*/*_edgelist/*edgelist*.csv'):\n",
    "    df = pd.read_csv(path)\n",
    "    edgelist_incel = pd.concat([edgelist_incel,df])"
   ]
  },
  {
   "cell_type": "code",
   "execution_count": 3,
   "metadata": {},
   "outputs": [],
   "source": [
    "edgelist_incel['link'] = ['incel']*len(edgelist_incel)"
   ]
  },
  {
   "cell_type": "code",
   "execution_count": 4,
   "metadata": {},
   "outputs": [],
   "source": [
    "edgelist_right = pd.DataFrame(columns=['forward_from','forward_to','count'])\n",
    "\n",
    "for path in glob.glob('./*right*/*_edgelist/*edgelist*.csv'):\n",
    "    df = pd.read_csv(path)\n",
    "    edgelist_right = pd.concat([edgelist_right,df])"
   ]
  },
  {
   "cell_type": "code",
   "execution_count": 5,
   "metadata": {},
   "outputs": [],
   "source": [
    "edgelist_right['link'] = ['right']*len(edgelist_right)"
   ]
  },
  {
   "cell_type": "code",
   "execution_count": 6,
   "metadata": {},
   "outputs": [],
   "source": [
    "edgelist_left = pd.DataFrame(columns=['forward_from','forward_to','count'])\n",
    "\n",
    "for path in glob.glob('./*left*/*_edgelist/*edgelist*.csv'):\n",
    "    df = pd.read_csv(path)\n",
    "    edgelist_left = pd.concat([edgelist_left,df])"
   ]
  },
  {
   "cell_type": "code",
   "execution_count": 7,
   "metadata": {},
   "outputs": [],
   "source": [
    "edgelist_left['link'] = ['left']*len(edgelist_left)"
   ]
  },
  {
   "cell_type": "code",
   "execution_count": 8,
   "metadata": {},
   "outputs": [],
   "source": [
    "edgelist = pd.concat([edgelist_incel, edgelist_left, edgelist_right])"
   ]
  },
  {
   "cell_type": "code",
   "execution_count": 9,
   "metadata": {},
   "outputs": [],
   "source": [
    "with open('./incel_network/dictionaires/id_to_desc.json') as file_desc,\\\n",
    "    open('./incel_network/dictionaires/id_to_names.json') as file_names:\n",
    "    id_to_desc_incel = json.load(file_desc)\n",
    "    id_to_names_incel = json.load(file_names)"
   ]
  },
  {
   "cell_type": "code",
   "execution_count": 10,
   "metadata": {},
   "outputs": [],
   "source": [
    "with open('./extreme_right_network/dictionaires/id_to_desc.json') as file_desc,\\\n",
    "    open('./extreme_right_network/dictionaires/id_to_names.json') as file_names:\n",
    "    id_to_desc_right = json.load(file_desc)\n",
    "    id_to_names_right = json.load(file_names)"
   ]
  },
  {
   "cell_type": "code",
   "execution_count": 11,
   "metadata": {},
   "outputs": [],
   "source": [
    "with open('./extreme_left_network/dictionaires/id_to_desc.json') as file_desc,\\\n",
    "    open('./extreme_left_network/dictionaires/id_to_names.json') as file_names:\n",
    "    id_to_desc_left = json.load(file_desc)\n",
    "    id_to_names_left = json.load(file_names)"
   ]
  },
  {
   "cell_type": "code",
   "execution_count": 12,
   "metadata": {},
   "outputs": [],
   "source": [
    "id_to_desc_incel = dict(map(lambda x: (int(x[0]), x[1]), id_to_desc_incel.items()))\n",
    "id_to_desc_right = dict(map(lambda x: (int(x[0]), x[1]), id_to_desc_right.items()))\n",
    "id_to_desc_left = dict(map(lambda x: (int(x[0]), x[1]), id_to_desc_left.items()))\n",
    "\n",
    "id_to_names_incel = dict(map(lambda x: (int(x[0]), x[1]), id_to_names_incel.items()))\n",
    "id_to_names_right = dict(map(lambda x: (int(x[0]), x[1]), id_to_names_right.items()))\n",
    "id_to_names_left = dict(map(lambda x: (int(x[0]), x[1]), id_to_names_left.items()))"
   ]
  },
  {
   "cell_type": "code",
   "execution_count": 13,
   "metadata": {},
   "outputs": [],
   "source": [
    "id_to_names = {**id_to_names_incel, **id_to_names_right, ** id_to_names_left}\n",
    "id_to_desc = {**id_to_desc_incel, **id_to_desc_right, **id_to_desc_left}"
   ]
  },
  {
   "cell_type": "markdown",
   "metadata": {},
   "source": [
    "### Function def"
   ]
  },
  {
   "cell_type": "code",
   "execution_count": 14,
   "metadata": {},
   "outputs": [],
   "source": [
    "count_links = np.vectorize(lambda x: x['link'])\n",
    "count_weights = np.vectorize(lambda x: x['weight'])"
   ]
  },
  {
   "cell_type": "code",
   "execution_count": 15,
   "metadata": {},
   "outputs": [],
   "source": [
    "\n",
    "def get_links_within_community(community, list_links, graph):\n",
    "    \"\"\"\"\n",
    "    community: list of nodes part of a community\n",
    "    list_links: edgelist of tuple (node_source, node_target)\n",
    "    graph = igraph graph\n",
    "\n",
    "    returns the share of edges that are \"incel\" or \"right/left\" on the total, weighting on the edges weight\n",
    "    \"\"\"\n",
    "\n",
    "    if len(community)==1:\n",
    "        return np.nan\n",
    "\n",
    "    mask = []\n",
    "    for link in list_links:\n",
    "        true_or_false = link[0] in community and link[1] in community\n",
    "        mask.append(true_or_false)\n",
    "    \n",
    "    links_in_community = np.array(list(graph.es))[mask]\n",
    "\n",
    "    list_of_pairs = list(zip(count_links(links_in_community), count_weights(links_in_community))) #get array of pairs (category, weight)\n",
    "\n",
    "    \n",
    "    temp_df = pd.DataFrame(list_of_pairs).groupby(0).sum().sort_values(by=1,ascending=False)\n",
    "    total = temp_df.sum()\n",
    "\n",
    "    share_highest_value = (temp_df/total).iloc[0,0]\n",
    "\n",
    "    return share_highest_value\n",
    "\n",
    "    "
   ]
  },
  {
   "cell_type": "code",
   "execution_count": 16,
   "metadata": {},
   "outputs": [],
   "source": [
    "def get_average(G,communities, n_filter=None, n_communities=None, weighted=True):\n",
    "\n",
    "    \"\"\"\n",
    "    Get the share of highest tyoe of link (\"incel\" or \"right/left\") for several communities in the network and averages\n",
    "    the results, weighting with the number of nodes in each community.\n",
    "\n",
    "    G: graph\n",
    "    communities: VertexCluster object\n",
    "    n_filter = minumum number of nodes in a community to be considered. Default all\n",
    "    n_communities = if not None, we consider only the n first communities with most nodes\n",
    "\n",
    "    (n_filter and n_communities together raises an error)\n",
    "\n",
    "    returns a number between 0 and 1. The closer to 1, the more separate are the communities\n",
    "    \"\"\"\n",
    "\n",
    "    list_communities = np.unique(G.vs['community'])\n",
    "\n",
    "    list_of_links = list(map(lambda x: x.tuple, G.es))\n",
    "\n",
    "    if n_filter is not None:\n",
    "        list_communities = list(filter(lambda x: len(communities[x])>n_filter, list_communities))\n",
    "\n",
    "    if n_communities is not None:\n",
    "        list_communities = sorted(np.unique(G.vs['community']), key=lambda x: len(communities[x]), reverse=True)[:n_communities]\n",
    "\n",
    "    print(f'Calculating average for a total of {len(list_communities)} communities')\n",
    "\n",
    "    shares_communities = []\n",
    "    for community_number in list_communities:\n",
    "        highest_share = get_links_within_community(communities[community_number], list_of_links, G)\n",
    "        shares_communities.append((community_number, highest_share))\n",
    "        \n",
    "\n",
    "    if weighted:\n",
    "        weights = list(map(lambda x: len(communities[x[0]]), shares_communities))\n",
    "    \n",
    "    else:\n",
    "        weights = np.ones(len(shares_communities)) #list of weights is a list of ones. So it's like NO WEIGHTS\n",
    "        \n",
    "    final_shares = list(map(lambda x: x[1], shares_communities))\n",
    "\n",
    "\n",
    "    weights = np.array(weights)[~np.isnan(final_shares)] #let's drop nan (aka communities with just one node)\n",
    "\n",
    "    final_shares = np.array(final_shares)[~np.isnan(final_shares)] #let's drop nan (aka communities with just one node)\n",
    "\n",
    "    return np.average(final_shares, weights=weights)"
   ]
  },
  {
   "cell_type": "markdown",
   "metadata": {},
   "source": [
    "### right-incel"
   ]
  },
  {
   "cell_type": "code",
   "execution_count": 17,
   "metadata": {},
   "outputs": [],
   "source": [
    "edgelist_ir = edgelist[(edgelist['link']=='incel') | (edgelist['link']=='right')]"
   ]
  },
  {
   "cell_type": "code",
   "execution_count": 18,
   "metadata": {},
   "outputs": [],
   "source": [
    "G_ir = ig.Graph.TupleList(edgelist_ir.iloc[:,:3].itertuples(index=False), directed=True, weights=True)"
   ]
  },
  {
   "cell_type": "code",
   "execution_count": 19,
   "metadata": {},
   "outputs": [],
   "source": [
    "## community detection\n",
    "#communities = G_ir.as_undirected().community_leiden(objective_function=\"modularity\")\n",
    "communities = G_ir.community_walktrap(weights= G_ir.es['weight'], steps=5)\n",
    "# add community as node label\n",
    "communities_ir = communities.as_clustering()\n",
    "G_ir.vs['community'] = communities_ir.membership"
   ]
  },
  {
   "cell_type": "code",
   "execution_count": 20,
   "metadata": {},
   "outputs": [],
   "source": [
    "G_ir.es['link'] = edgelist_ir['link'].to_list()"
   ]
  },
  {
   "cell_type": "code",
   "execution_count": 34,
   "metadata": {},
   "outputs": [
    {
     "name": "stdout",
     "output_type": "stream",
     "text": [
      "Calculating average for a total of 10 communities\n"
     ]
    },
    {
     "data": {
      "text/plain": [
       "0.8013517667850345"
      ]
     },
     "execution_count": 34,
     "metadata": {},
     "output_type": "execute_result"
    }
   ],
   "source": [
    "(get_average(G_ir, communities_ir,n_communities=10, weighted=True)-0.5)/0.5"
   ]
  },
  {
   "cell_type": "markdown",
   "metadata": {},
   "source": [
    "### left-incel"
   ]
  },
  {
   "cell_type": "code",
   "execution_count": 27,
   "metadata": {},
   "outputs": [],
   "source": [
    "edgelist_il = edgelist[(edgelist['link']=='incel') | (edgelist['link']=='left')]\n",
    "G_il = ig.Graph.TupleList(edgelist_il.iloc[:,:3].itertuples(index=False), directed=True, weights=True)\n",
    "## community detection\n",
    "#communities = G_il.as_undirected().community_leiden(objective_function=\"modularity\")\n",
    "communities = G_il.community_walktrap(weights= G_il.es['weight'], steps=5)\n",
    "# add community as node label\n",
    "communities_il = communities.as_clustering()\n",
    "\n",
    "G_il.vs['community'] = communities_il.membership\n",
    "\n",
    "G_il.es['link'] = edgelist_il['link'].to_list()"
   ]
  },
  {
   "cell_type": "code",
   "execution_count": 35,
   "metadata": {},
   "outputs": [
    {
     "name": "stdout",
     "output_type": "stream",
     "text": [
      "Calculating average for a total of 10 communities\n"
     ]
    },
    {
     "data": {
      "text/plain": [
       "0.9469263584916556"
      ]
     },
     "execution_count": 35,
     "metadata": {},
     "output_type": "execute_result"
    }
   ],
   "source": [
    "(get_average(G_il, communities_il, n_communities=10,weighted=True)-0.5)/0.5"
   ]
  },
  {
   "cell_type": "markdown",
   "metadata": {},
   "source": [
    "### left-right"
   ]
  },
  {
   "cell_type": "code",
   "execution_count": 22,
   "metadata": {},
   "outputs": [],
   "source": [
    "edgelist_lr = edgelist[(edgelist['link']=='right') | (edgelist['link']=='left')]\n",
    "G_lr = ig.Graph.TupleList(edgelist_lr.iloc[:,:3].itertuples(index=False), directed=True, weights=True)\n",
    "## community detection\n",
    "#communities = G_lr.as_undirected().community_leiden(objective_function=\"modularity\")\n",
    "communities = G_lr.community_walktrap(weights= G_lr.es['weight'], steps=5)\n",
    "# add community as node label\n",
    "communities_lr = communities.as_clustering()\n",
    "\n",
    "G_lr.vs['community'] = communities_lr.membership\n",
    "\n",
    "G_lr.es['link'] = edgelist_lr['link'].to_list()"
   ]
  },
  {
   "cell_type": "code",
   "execution_count": 36,
   "metadata": {},
   "outputs": [
    {
     "name": "stdout",
     "output_type": "stream",
     "text": [
      "Calculating average for a total of 10 communities\n"
     ]
    },
    {
     "data": {
      "text/plain": [
       "0.7656526260299543"
      ]
     },
     "execution_count": 36,
     "metadata": {},
     "output_type": "execute_result"
    }
   ],
   "source": [
    "(get_average(G_lr, communities_lr, n_communities=10)-0.5)/0.5"
   ]
  },
  {
   "cell_type": "markdown",
   "metadata": {},
   "source": [
    "### visual comparison"
   ]
  },
  {
   "cell_type": "code",
   "execution_count": 107,
   "metadata": {},
   "outputs": [],
   "source": [
    "def get_index_list(G,communities, sort_list=True):\n",
    "\n",
    "    \"\"\"\n",
    "    Get the share of highest tyoe of link (\"incel\" or \"right/left\") for several communities in the network and returns a list\n",
    "\n",
    "    G: graph\n",
    "    communities: VertexCluster object\n",
    "    sorted: bool\n",
    "\n",
    "    If sorted=True, list is in order of number of nodes\n",
    "\n",
    "    returns a list of tuple (weights, final_shares) where weights is the list of number of nodes\n",
    "    \"\"\"\n",
    "\n",
    "    list_communities = np.unique(G.vs['community'])\n",
    "\n",
    "    list_of_links = list(map(lambda x: x.tuple, G.es))\n",
    "\n",
    "    if sort_list:\n",
    "        list_communities = sorted(np.unique(G.vs['community']), key=lambda x: len(communities[x]), reverse=True)\n",
    "\n",
    "    print(f'Calculating average for a total of {len(list_communities)} communities')\n",
    "\n",
    "    shares_communities = []\n",
    "    for community_number in list_communities:\n",
    "        highest_share = get_links_within_community(communities[community_number], list_of_links, G)\n",
    "        shares_communities.append((community_number, highest_share))\n",
    "\n",
    "    weights = list(map(lambda x: len(communities[x]), list_communities))\n",
    "    final_shares = list(map(lambda x: x[1], shares_communities))\n",
    "\n",
    "    assert len(weights)==len(final_shares)\n",
    "\n",
    "    return weights, final_shares"
   ]
  },
  {
   "cell_type": "code",
   "execution_count": 81,
   "metadata": {},
   "outputs": [
    {
     "name": "stdout",
     "output_type": "stream",
     "text": [
      "Calculating average for a total of 117 communities\n",
      "Calculating average for a total of 153 communities\n",
      "Calculating average for a total of 124 communities\n"
     ]
    }
   ],
   "source": [
    "index_ir = get_index_list(G_ir, communities_ir)\n",
    "index_il = get_index_list(G_il, communities_il)\n",
    "index_lr = get_index_list(G_lr, communities_lr)\n"
   ]
  },
  {
   "cell_type": "code",
   "execution_count": 82,
   "metadata": {},
   "outputs": [
    {
     "data": {
      "text/plain": [
       "0.9006758833925173"
      ]
     },
     "execution_count": 82,
     "metadata": {},
     "output_type": "execute_result"
    }
   ],
   "source": [
    "np.average(index_ir[1][:10], weights=index_ir[0][:10])"
   ]
  },
  {
   "cell_type": "code",
   "execution_count": 83,
   "metadata": {},
   "outputs": [],
   "source": [
    "averages_ir = []\n",
    "averages_il = []\n",
    "averages_lr = []\n",
    "\n",
    "for n in range(1,101):\n",
    "    averages_ir.append(np.average(index_ir[1][:n], weights=index_ir[0][:n]))\n",
    "    averages_il.append(np.average(index_il[1][:n], weights=index_il[0][:n]))\n",
    "    averages_lr.append(np.average(index_lr[1][:n], weights=index_lr[0][:n]))"
   ]
  },
  {
   "cell_type": "code",
   "execution_count": 84,
   "metadata": {},
   "outputs": [],
   "source": [
    "averages_ir = ((np.array(averages_ir))-0.5)/0.5\n",
    "averages_il = ((np.array(averages_il))-0.5)/0.5\n",
    "averages_lr = ((np.array(averages_lr))-0.5)/0.5\n",
    "\n",
    "# normalization"
   ]
  },
  {
   "cell_type": "code",
   "execution_count": 85,
   "metadata": {},
   "outputs": [
    {
     "data": {
      "image/png": "[encoded data removed]",
      "text/plain": [
       "<Figure size 640x480 with 1 Axes>"
      ]
     },
     "metadata": {},
     "output_type": "display_data"
    }
   ],
   "source": [
    "plt.plot(range(1,101), averages_ir, label='Incel-Right', color='blue')\n",
    "plt.plot(range(1,101), averages_il, label='Incel-Left', color='red')\n",
    "plt.plot(range(1,101), averages_lr, label='Left-Right', color='#00FF00')\n",
    "plt.ylim((0,1))\n",
    "\n",
    "plt.title('Degree of separatedness of network')\n",
    "plt.grid(True)\n",
    "plt.legend()\n",
    "plt.show()"
   ]
  },
  {
   "cell_type": "code",
   "execution_count": 110,
   "metadata": {},
   "outputs": [
    {
     "name": "stdout",
     "output_type": "stream",
     "text": [
      "Calculating average for a total of 117 communities\n"
     ]
    },
    {
     "data": {
      "text/plain": [
       "0.9357488805308212"
      ]
     },
     "execution_count": 110,
     "metadata": {},
     "output_type": "execute_result"
    }
   ],
   "source": [
    "get_average(G_ir, communities_ir)"
   ]
  },
  {
   "cell_type": "code",
   "execution_count": 111,
   "metadata": {},
   "outputs": [
    {
     "name": "stdout",
     "output_type": "stream",
     "text": [
      "Calculating average for a total of 153 communities\n"
     ]
    },
    {
     "data": {
      "text/plain": [
       "0.977967099410345"
      ]
     },
     "execution_count": 111,
     "metadata": {},
     "output_type": "execute_result"
    }
   ],
   "source": [
    "get_average(G_il, communities_il)"
   ]
  },
  {
   "cell_type": "code",
   "execution_count": null,
   "metadata": {},
   "outputs": [],
   "source": []
  }
 ],
 "metadata": {
  "kernelspec": {
   "display_name": "telegram_env",
   "language": "python",
   "name": "python3"
  },
  "language_info": {
   "codemirror_mode": {
    "name": "ipython",
    "version": 3
   },
   "file_extension": ".py",
   "mimetype": "text/x-python",
   "name": "python",
   "nbconvert_exporter": "python",
   "pygments_lexer": "ipython3",
   "version": "3.8.18"
  }
 },
 "nbformat": 4,
 "nbformat_minor": 2
}
