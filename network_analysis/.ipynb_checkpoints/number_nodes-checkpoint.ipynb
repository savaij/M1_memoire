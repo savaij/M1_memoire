{
 "cells": [
  {
   "cell_type": "code",
   "execution_count": 10,
   "metadata": {},
   "outputs": [],
   "source": [
    "import pandas as pd\n",
    "import igraph as ig\n",
    "from ipysigma import Sigma\n",
    "import glob\n",
    "import json\n",
    "import numpy as np\n",
    "from collections import Counter\n",
    "import matplotlib.pyplot as plt"
   ]
  },
  {
   "cell_type": "markdown",
   "metadata": {},
   "source": [
    "# Comparison on three iteration"
   ]
  },
  {
   "cell_type": "code",
   "execution_count": 11,
   "metadata": {},
   "outputs": [],
   "source": [
    "edgelist_incel = pd.DataFrame(columns=['forward_from','forward_to','count','iteration'])\n",
    "for path in glob.glob('./incel*/*_edgelist/*edgelist*.csv'):\n",
    "    df = pd.read_csv(path)\n",
    "    if 'first' in path:\n",
    "        c = 1\n",
    "    elif 'second' in path:\n",
    "        c = 2\n",
    "    elif 'third' in path:\n",
    "        c = 3\n",
    "    df['iteration'] = [c]*len(df)\n",
    "    edgelist_incel = pd.concat([edgelist_incel,df])"
   ]
  },
  {
   "cell_type": "code",
   "execution_count": 12,
   "metadata": {},
   "outputs": [],
   "source": [
    "edgelist_incel['link'] = ['incel']*len(edgelist_incel)"
   ]
  },
  {
   "cell_type": "code",
   "execution_count": 13,
   "metadata": {},
   "outputs": [],
   "source": [
    "edgelist_right = pd.DataFrame(columns=['forward_from','forward_to','count'])\n",
    "for path in glob.glob('./*right*/*_edgelist/*edgelist*.csv'):\n",
    "    df = pd.read_csv(path)\n",
    "    if 'first' in path:\n",
    "        c = 1\n",
    "    elif 'second' in path:\n",
    "        c = 2\n",
    "    elif 'third' in path:\n",
    "        c = 3\n",
    "    df['iteration'] = [c]*len(df)\n",
    "    edgelist_right = pd.concat([edgelist_right,df])"
   ]
  },
  {
   "cell_type": "code",
   "execution_count": 14,
   "metadata": {},
   "outputs": [],
   "source": [
    "edgelist_right['link'] = ['right']*len(edgelist_right)"
   ]
  },
  {
   "cell_type": "code",
   "execution_count": 15,
   "metadata": {},
   "outputs": [],
   "source": [
    "edgelist_left = pd.DataFrame(columns=['forward_from','forward_to','count'])\n",
    "for path in glob.glob('./*left*/*_edgelist/*edgelist*.csv'):\n",
    "    df = pd.read_csv(path)\n",
    "    if 'first' in path:\n",
    "        c = 1\n",
    "    elif 'second' in path:\n",
    "        c = 2\n",
    "    elif 'third' in path:\n",
    "        c = 3\n",
    "    df['iteration'] = [c]*len(df)\n",
    "    edgelist_left = pd.concat([edgelist_left,df])"
   ]
  },
  {
   "cell_type": "code",
   "execution_count": 16,
   "metadata": {},
   "outputs": [],
   "source": [
    "edgelist_left['link'] = ['left']*len(edgelist_left)"
   ]
  },
  {
   "cell_type": "code",
   "execution_count": 17,
   "metadata": {},
   "outputs": [],
   "source": [
    "edgelist = pd.concat([edgelist_incel, edgelist_left, edgelist_right])"
   ]
  },
  {
   "cell_type": "code",
   "execution_count": 28,
   "metadata": {},
   "outputs": [
    {
     "data": {
      "text/plain": [
       "3368"
      ]
     },
     "execution_count": 28,
     "metadata": {},
     "output_type": "execute_result"
    }
   ],
   "source": [
    "len(np.unique(df[['forward_from','forward_to']].values.flatten()))"
   ]
  },
  {
   "cell_type": "code",
   "execution_count": 29,
   "metadata": {},
   "outputs": [],
   "source": [
    "data_total = []\n",
    "for iteration in range(1,4):\n",
    "    row = [iteration]\n",
    "    for category in ['incel','right','left']:\n",
    "        df = edgelist[(edgelist['link']==category) & (edgelist['iteration']<=iteration)]\n",
    "        n_nodes = len(np.unique(df[['forward_from','forward_to']].values.flatten()))\n",
    "        row.append(n_nodes)\n",
    "    data_total.append(row)"
   ]
  },
  {
   "cell_type": "code",
   "execution_count": 39,
   "metadata": {},
   "outputs": [],
   "source": [
    "df_count = pd.DataFrame(data= data_total, columns=['iteration','incel','far-right','far-left'])"
   ]
  },
  {
   "cell_type": "code",
   "execution_count": 46,
   "metadata": {},
   "outputs": [
    {
     "data": {
      "text/html": [
       "<div>\n",
       "<style scoped>\n",
       "    .dataframe tbody tr th:only-of-type {\n",
       "        vertical-align: middle;\n",
       "    }\n",
       "\n",
       "    .dataframe tbody tr th {\n",
       "        vertical-align: top;\n",
       "    }\n",
       "\n",
       "    .dataframe thead th {\n",
       "        text-align: right;\n",
       "    }\n",
       "</style>\n",
       "<table border=\"1\" class=\"dataframe\">\n",
       "  <thead>\n",
       "    <tr style=\"text-align: right;\">\n",
       "      <th></th>\n",
       "      <th>iteration</th>\n",
       "      <th>incel</th>\n",
       "      <th>far-right</th>\n",
       "      <th>far-left</th>\n",
       "    </tr>\n",
       "  </thead>\n",
       "  <tbody>\n",
       "    <tr>\n",
       "      <th>0</th>\n",
       "      <td>1</td>\n",
       "      <td>106</td>\n",
       "      <td>55</td>\n",
       "      <td>49</td>\n",
       "    </tr>\n",
       "    <tr>\n",
       "      <th>1</th>\n",
       "      <td>2</td>\n",
       "      <td>340</td>\n",
       "      <td>297</td>\n",
       "      <td>578</td>\n",
       "    </tr>\n",
       "    <tr>\n",
       "      <th>2</th>\n",
       "      <td>3</td>\n",
       "      <td>3636</td>\n",
       "      <td>3616</td>\n",
       "      <td>3368</td>\n",
       "    </tr>\n",
       "  </tbody>\n",
       "</table>\n",
       "</div>"
      ],
      "text/plain": [
       "   iteration  incel  far-right  far-left\n",
       "0          1    106         55        49\n",
       "1          2    340        297       578\n",
       "2          3   3636       3616      3368"
      ]
     },
     "execution_count": 46,
     "metadata": {},
     "output_type": "execute_result"
    }
   ],
   "source": [
    "df_count"
   ]
  },
  {
   "cell_type": "code",
   "execution_count": 45,
   "metadata": {},
   "outputs": [
    {
     "data": {
      "image/png": "[encoded data removed]",
      "text/plain": [
       "<Figure size 640x480 with 1 Axes>"
      ]
     },
     "metadata": {},
     "output_type": "display_data"
    }
   ],
   "source": [
    "df_count.plot(x='iteration',\n",
    "              kind='bar')\n",
    "plt.xticks(rotation=0)\n",
    "plt.ylabel('Number of channels')\n",
    "plt.savefig('../report_latex/img/n_nodes_output.png', dpi=300)"
   ]
  },
  {
   "cell_type": "code",
   "execution_count": null,
   "metadata": {},
   "outputs": [],
   "source": []
  }
 ],
 "metadata": {
  "kernelspec": {
   "display_name": "python4HN",
   "language": "python",
   "name": "python3"
  },
  "language_info": {
   "codemirror_mode": {
    "name": "ipython",
    "version": 3
   },
   "file_extension": ".py",
   "mimetype": "text/x-python",
   "name": "python",
   "nbconvert_exporter": "python",
   "pygments_lexer": "ipython3",
   "version": "3.8.18"
  }
 },
 "nbformat": 4,
 "nbformat_minor": 2
}
